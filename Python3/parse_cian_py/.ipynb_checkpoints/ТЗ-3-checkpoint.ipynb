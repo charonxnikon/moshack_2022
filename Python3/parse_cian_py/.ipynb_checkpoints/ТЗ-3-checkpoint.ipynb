{
 "cells": [
  {
   "cell_type": "code",
   "execution_count": 356,
   "id": "77e33238",
   "metadata": {},
   "outputs": [
    {
     "name": "stdout",
     "output_type": "stream",
     "text": [
      "Requirement already satisfied: selenium in /Library/Frameworks/Python.framework/Versions/3.9/lib/python3.9/site-packages (4.6.0)\n",
      "Requirement already satisfied: certifi>=2021.10.8 in /Library/Frameworks/Python.framework/Versions/3.9/lib/python3.9/site-packages (from selenium) (2022.9.24)\n",
      "Requirement already satisfied: trio~=0.17 in /Library/Frameworks/Python.framework/Versions/3.9/lib/python3.9/site-packages (from selenium) (0.19.0)\n",
      "Requirement already satisfied: trio-websocket~=0.9 in /Library/Frameworks/Python.framework/Versions/3.9/lib/python3.9/site-packages (from selenium) (0.9.2)\n",
      "Requirement already satisfied: urllib3[socks]~=1.26 in /Library/Frameworks/Python.framework/Versions/3.9/lib/python3.9/site-packages (from selenium) (1.26.3)\n",
      "Requirement already satisfied: sortedcontainers in /Library/Frameworks/Python.framework/Versions/3.9/lib/python3.9/site-packages (from trio~=0.17->selenium) (2.4.0)\n",
      "Requirement already satisfied: sniffio in /Library/Frameworks/Python.framework/Versions/3.9/lib/python3.9/site-packages (from trio~=0.17->selenium) (1.2.0)\n",
      "Requirement already satisfied: idna in /Library/Frameworks/Python.framework/Versions/3.9/lib/python3.9/site-packages (from trio~=0.17->selenium) (2.10)\n",
      "Requirement already satisfied: attrs>=19.2.0 in /Library/Frameworks/Python.framework/Versions/3.9/lib/python3.9/site-packages (from trio~=0.17->selenium) (20.3.0)\n",
      "Requirement already satisfied: async-generator>=1.9 in /Library/Frameworks/Python.framework/Versions/3.9/lib/python3.9/site-packages (from trio~=0.17->selenium) (1.10)\n",
      "Requirement already satisfied: outcome in /Library/Frameworks/Python.framework/Versions/3.9/lib/python3.9/site-packages (from trio~=0.17->selenium) (1.1.0)\n",
      "Requirement already satisfied: wsproto>=0.14 in /Library/Frameworks/Python.framework/Versions/3.9/lib/python3.9/site-packages (from trio-websocket~=0.9->selenium) (1.0.0)\n",
      "Requirement already satisfied: PySocks!=1.5.7,<2.0,>=1.5.6 in /Library/Frameworks/Python.framework/Versions/3.9/lib/python3.9/site-packages (from urllib3[socks]~=1.26->selenium) (1.7.1)\n",
      "Requirement already satisfied: h11<1,>=0.9.0 in /Library/Frameworks/Python.framework/Versions/3.9/lib/python3.9/site-packages (from wsproto>=0.14->trio-websocket~=0.9->selenium) (0.12.0)\n",
      "Requirement already satisfied: webdriver-manager in /Library/Frameworks/Python.framework/Versions/3.9/lib/python3.9/site-packages (3.5.3)\n",
      "Requirement already satisfied: requests in /Library/Frameworks/Python.framework/Versions/3.9/lib/python3.9/site-packages (from webdriver-manager) (2.25.1)\n",
      "Requirement already satisfied: crayons in /Library/Frameworks/Python.framework/Versions/3.9/lib/python3.9/site-packages (from webdriver-manager) (0.4.0)\n",
      "Requirement already satisfied: configparser in /Library/Frameworks/Python.framework/Versions/3.9/lib/python3.9/site-packages (from webdriver-manager) (5.2.0)\n",
      "Requirement already satisfied: colorama in /Library/Frameworks/Python.framework/Versions/3.9/lib/python3.9/site-packages (from crayons->webdriver-manager) (0.4.4)\n",
      "Requirement already satisfied: urllib3<1.27,>=1.21.1 in /Library/Frameworks/Python.framework/Versions/3.9/lib/python3.9/site-packages (from requests->webdriver-manager) (1.26.3)\n",
      "Requirement already satisfied: certifi>=2017.4.17 in /Library/Frameworks/Python.framework/Versions/3.9/lib/python3.9/site-packages (from requests->webdriver-manager) (2022.9.24)\n",
      "Requirement already satisfied: idna<3,>=2.5 in /Library/Frameworks/Python.framework/Versions/3.9/lib/python3.9/site-packages (from requests->webdriver-manager) (2.10)\n",
      "Requirement already satisfied: chardet<5,>=3.0.2 in /Library/Frameworks/Python.framework/Versions/3.9/lib/python3.9/site-packages (from requests->webdriver-manager) (4.0.0)\n",
      "Requirement already satisfied: pandas in /Library/Frameworks/Python.framework/Versions/3.9/lib/python3.9/site-packages (1.4.1)\n",
      "Requirement already satisfied: python-dateutil>=2.8.1 in /Library/Frameworks/Python.framework/Versions/3.9/lib/python3.9/site-packages (from pandas) (2.8.2)\n",
      "Requirement already satisfied: pytz>=2020.1 in /Library/Frameworks/Python.framework/Versions/3.9/lib/python3.9/site-packages (from pandas) (2021.1)\n",
      "Requirement already satisfied: numpy>=1.18.5 in /Library/Frameworks/Python.framework/Versions/3.9/lib/python3.9/site-packages (from pandas) (1.22.3)\n",
      "Requirement already satisfied: six>=1.5 in /Library/Frameworks/Python.framework/Versions/3.9/lib/python3.9/site-packages (from python-dateutil>=2.8.1->pandas) (1.15.0)\n",
      "Requirement already satisfied: requests in /Library/Frameworks/Python.framework/Versions/3.9/lib/python3.9/site-packages (2.25.1)\n",
      "Requirement already satisfied: urllib3<1.27,>=1.21.1 in /Library/Frameworks/Python.framework/Versions/3.9/lib/python3.9/site-packages (from requests) (1.26.3)\n",
      "Requirement already satisfied: idna<3,>=2.5 in /Library/Frameworks/Python.framework/Versions/3.9/lib/python3.9/site-packages (from requests) (2.10)\n",
      "Requirement already satisfied: chardet<5,>=3.0.2 in /Library/Frameworks/Python.framework/Versions/3.9/lib/python3.9/site-packages (from requests) (4.0.0)\n",
      "Requirement already satisfied: certifi>=2017.4.17 in /Library/Frameworks/Python.framework/Versions/3.9/lib/python3.9/site-packages (from requests) (2022.9.24)\n",
      "Requirement already satisfied: numpy in /Library/Frameworks/Python.framework/Versions/3.9/lib/python3.9/site-packages (1.22.3)\n",
      "Requirement already satisfied: bs4 in /Library/Frameworks/Python.framework/Versions/3.9/lib/python3.9/site-packages (0.0.1)\n",
      "Requirement already satisfied: beautifulsoup4 in /Library/Frameworks/Python.framework/Versions/3.9/lib/python3.9/site-packages (from bs4) (4.10.0)\n",
      "Requirement already satisfied: soupsieve>1.2 in /Library/Frameworks/Python.framework/Versions/3.9/lib/python3.9/site-packages (from beautifulsoup4->bs4) (2.3.1)\n",
      "Collecting html\n",
      "  Using cached html-1.16.tar.gz (7.6 kB)\n",
      "  Preparing metadata (setup.py) ... \u001b[?25lerror\n",
      "  \u001b[1;31merror\u001b[0m: \u001b[1msubprocess-exited-with-error\u001b[0m\n",
      "  \n",
      "  \u001b[31m×\u001b[0m \u001b[32mpython setup.py egg_info\u001b[0m did not run successfully.\n",
      "  \u001b[31m│\u001b[0m exit code: \u001b[1;36m1\u001b[0m\n",
      "  \u001b[31m╰─>\u001b[0m \u001b[31m[6 lines of output]\u001b[0m\n",
      "  \u001b[31m   \u001b[0m Traceback (most recent call last):\n",
      "  \u001b[31m   \u001b[0m   File \"<string>\", line 2, in <module>\n",
      "  \u001b[31m   \u001b[0m   File \"<pip-setuptools-caller>\", line 34, in <module>\n",
      "  \u001b[31m   \u001b[0m   File \"/private/var/folders/dm/p_gv33kn0vl5wg11gq43jzvh0000gn/T/pip-install-5o6wp0nu/html_e6135459345f4bdb9064b7ae0463f062/setup.py\", line 12, in <module>\n",
      "  \u001b[31m   \u001b[0m     long_description = __doc__.decode('utf8'),\n",
      "  \u001b[31m   \u001b[0m AttributeError: 'str' object has no attribute 'decode'\n",
      "  \u001b[31m   \u001b[0m \u001b[31m[end of output]\u001b[0m\n",
      "  \n",
      "  \u001b[1;35mnote\u001b[0m: This error originates from a subprocess, and is likely not a problem with pip.\n",
      "\u001b[1;31merror\u001b[0m: \u001b[1mmetadata-generation-failed\u001b[0m\n",
      "\n",
      "\u001b[31m×\u001b[0m Encountered error while generating package metadata.\n",
      "\u001b[31m╰─>\u001b[0m See above for output.\n",
      "\n",
      "\u001b[1;35mnote\u001b[0m: This is an issue with the package mentioned above, not pip.\n",
      "\u001b[1;36mhint\u001b[0m: See above for details.\n",
      "\u001b[?25hRequirement already satisfied: tqdm in /Library/Frameworks/Python.framework/Versions/3.9/lib/python3.9/site-packages (4.61.2)\n",
      "Requirement already satisfied: gspread in /Library/Frameworks/Python.framework/Versions/3.9/lib/python3.9/site-packages (5.3.0)\n",
      "Requirement already satisfied: google-auth-oauthlib>=0.4.1 in /Library/Frameworks/Python.framework/Versions/3.9/lib/python3.9/site-packages (from gspread) (0.4.6)\n",
      "Requirement already satisfied: google-auth>=1.12.0 in /Library/Frameworks/Python.framework/Versions/3.9/lib/python3.9/site-packages (from gspread) (2.3.3)\n",
      "Requirement already satisfied: cachetools<5.0,>=2.0.0 in /Library/Frameworks/Python.framework/Versions/3.9/lib/python3.9/site-packages (from google-auth>=1.12.0->gspread) (4.2.4)\n",
      "Requirement already satisfied: setuptools>=40.3.0 in /Library/Frameworks/Python.framework/Versions/3.9/lib/python3.9/site-packages (from google-auth>=1.12.0->gspread) (62.1.0)\n",
      "Requirement already satisfied: rsa<5,>=3.1.4 in /Library/Frameworks/Python.framework/Versions/3.9/lib/python3.9/site-packages (from google-auth>=1.12.0->gspread) (4.8)\n",
      "Requirement already satisfied: pyasn1-modules>=0.2.1 in /Library/Frameworks/Python.framework/Versions/3.9/lib/python3.9/site-packages (from google-auth>=1.12.0->gspread) (0.2.8)\n",
      "Requirement already satisfied: six>=1.9.0 in /Library/Frameworks/Python.framework/Versions/3.9/lib/python3.9/site-packages (from google-auth>=1.12.0->gspread) (1.15.0)\n",
      "Requirement already satisfied: requests-oauthlib>=0.7.0 in /Library/Frameworks/Python.framework/Versions/3.9/lib/python3.9/site-packages (from google-auth-oauthlib>=0.4.1->gspread) (1.3.0)\n",
      "Requirement already satisfied: pyasn1<0.5.0,>=0.4.6 in /Library/Frameworks/Python.framework/Versions/3.9/lib/python3.9/site-packages (from pyasn1-modules>=0.2.1->google-auth>=1.12.0->gspread) (0.4.8)\n",
      "Requirement already satisfied: requests>=2.0.0 in /Library/Frameworks/Python.framework/Versions/3.9/lib/python3.9/site-packages (from requests-oauthlib>=0.7.0->google-auth-oauthlib>=0.4.1->gspread) (2.25.1)\n",
      "Requirement already satisfied: oauthlib>=3.0.0 in /Library/Frameworks/Python.framework/Versions/3.9/lib/python3.9/site-packages (from requests-oauthlib>=0.7.0->google-auth-oauthlib>=0.4.1->gspread) (3.1.1)\n",
      "Requirement already satisfied: chardet<5,>=3.0.2 in /Library/Frameworks/Python.framework/Versions/3.9/lib/python3.9/site-packages (from requests>=2.0.0->requests-oauthlib>=0.7.0->google-auth-oauthlib>=0.4.1->gspread) (4.0.0)\n",
      "Requirement already satisfied: certifi>=2017.4.17 in /Library/Frameworks/Python.framework/Versions/3.9/lib/python3.9/site-packages (from requests>=2.0.0->requests-oauthlib>=0.7.0->google-auth-oauthlib>=0.4.1->gspread) (2022.9.24)\n",
      "Requirement already satisfied: idna<3,>=2.5 in /Library/Frameworks/Python.framework/Versions/3.9/lib/python3.9/site-packages (from requests>=2.0.0->requests-oauthlib>=0.7.0->google-auth-oauthlib>=0.4.1->gspread) (2.10)\n",
      "Requirement already satisfied: urllib3<1.27,>=1.21.1 in /Library/Frameworks/Python.framework/Versions/3.9/lib/python3.9/site-packages (from requests>=2.0.0->requests-oauthlib>=0.7.0->google-auth-oauthlib>=0.4.1->gspread) (1.26.3)\n",
      "Requirement already satisfied: df2gspread in /Library/Frameworks/Python.framework/Versions/3.9/lib/python3.9/site-packages (1.0.4)\n",
      "Requirement already satisfied: google-api-python-client==1.6.7 in /Library/Frameworks/Python.framework/Versions/3.9/lib/python3.9/site-packages (from df2gspread) (1.6.7)\n",
      "Requirement already satisfied: oauth2client<5.0.0dev,>=1.5.0 in /Library/Frameworks/Python.framework/Versions/3.9/lib/python3.9/site-packages (from df2gspread) (4.1.3)\n",
      "Requirement already satisfied: gspread>=2.1.1 in /Library/Frameworks/Python.framework/Versions/3.9/lib/python3.9/site-packages (from df2gspread) (5.3.0)\n",
      "Requirement already satisfied: pandas in /Library/Frameworks/Python.framework/Versions/3.9/lib/python3.9/site-packages (from df2gspread) (1.4.1)\n",
      "Collecting argparse>=1.3.0\n",
      "  Using cached argparse-1.4.0-py2.py3-none-any.whl (23 kB)\n",
      "Requirement already satisfied: httplib2<1dev,>=0.9.2 in /Library/Frameworks/Python.framework/Versions/3.9/lib/python3.9/site-packages (from google-api-python-client==1.6.7->df2gspread) (0.20.4)\n",
      "Requirement already satisfied: uritemplate<4dev,>=3.0.0 in /Library/Frameworks/Python.framework/Versions/3.9/lib/python3.9/site-packages (from google-api-python-client==1.6.7->df2gspread) (3.0.1)\n",
      "Requirement already satisfied: six<2dev,>=1.6.1 in /Library/Frameworks/Python.framework/Versions/3.9/lib/python3.9/site-packages (from google-api-python-client==1.6.7->df2gspread) (1.15.0)\n",
      "Requirement already satisfied: google-auth>=1.12.0 in /Library/Frameworks/Python.framework/Versions/3.9/lib/python3.9/site-packages (from gspread>=2.1.1->df2gspread) (2.3.3)\n",
      "Requirement already satisfied: google-auth-oauthlib>=0.4.1 in /Library/Frameworks/Python.framework/Versions/3.9/lib/python3.9/site-packages (from gspread>=2.1.1->df2gspread) (0.4.6)\n",
      "Requirement already satisfied: pyasn1-modules>=0.0.5 in /Library/Frameworks/Python.framework/Versions/3.9/lib/python3.9/site-packages (from oauth2client<5.0.0dev,>=1.5.0->df2gspread) (0.2.8)\n",
      "Requirement already satisfied: pyasn1>=0.1.7 in /Library/Frameworks/Python.framework/Versions/3.9/lib/python3.9/site-packages (from oauth2client<5.0.0dev,>=1.5.0->df2gspread) (0.4.8)\n",
      "Requirement already satisfied: rsa>=3.1.4 in /Library/Frameworks/Python.framework/Versions/3.9/lib/python3.9/site-packages (from oauth2client<5.0.0dev,>=1.5.0->df2gspread) (4.8)\n",
      "Requirement already satisfied: pytz>=2020.1 in /Library/Frameworks/Python.framework/Versions/3.9/lib/python3.9/site-packages (from pandas->df2gspread) (2021.1)\n",
      "Requirement already satisfied: numpy>=1.18.5 in /Library/Frameworks/Python.framework/Versions/3.9/lib/python3.9/site-packages (from pandas->df2gspread) (1.22.3)\n",
      "Requirement already satisfied: python-dateutil>=2.8.1 in /Library/Frameworks/Python.framework/Versions/3.9/lib/python3.9/site-packages (from pandas->df2gspread) (2.8.2)\n",
      "Requirement already satisfied: setuptools>=40.3.0 in /Library/Frameworks/Python.framework/Versions/3.9/lib/python3.9/site-packages (from google-auth>=1.12.0->gspread>=2.1.1->df2gspread) (62.1.0)\n",
      "Requirement already satisfied: cachetools<5.0,>=2.0.0 in /Library/Frameworks/Python.framework/Versions/3.9/lib/python3.9/site-packages (from google-auth>=1.12.0->gspread>=2.1.1->df2gspread) (4.2.4)\n",
      "Requirement already satisfied: requests-oauthlib>=0.7.0 in /Library/Frameworks/Python.framework/Versions/3.9/lib/python3.9/site-packages (from google-auth-oauthlib>=0.4.1->gspread>=2.1.1->df2gspread) (1.3.0)\n",
      "Requirement already satisfied: pyparsing!=3.0.0,!=3.0.1,!=3.0.2,!=3.0.3,<4,>=2.4.2 in /Library/Frameworks/Python.framework/Versions/3.9/lib/python3.9/site-packages (from httplib2<1dev,>=0.9.2->google-api-python-client==1.6.7->df2gspread) (2.4.7)\n",
      "Requirement already satisfied: requests>=2.0.0 in /Library/Frameworks/Python.framework/Versions/3.9/lib/python3.9/site-packages (from requests-oauthlib>=0.7.0->google-auth-oauthlib>=0.4.1->gspread>=2.1.1->df2gspread) (2.25.1)\n",
      "Requirement already satisfied: oauthlib>=3.0.0 in /Library/Frameworks/Python.framework/Versions/3.9/lib/python3.9/site-packages (from requests-oauthlib>=0.7.0->google-auth-oauthlib>=0.4.1->gspread>=2.1.1->df2gspread) (3.1.1)\n",
      "Requirement already satisfied: chardet<5,>=3.0.2 in /Library/Frameworks/Python.framework/Versions/3.9/lib/python3.9/site-packages (from requests>=2.0.0->requests-oauthlib>=0.7.0->google-auth-oauthlib>=0.4.1->gspread>=2.1.1->df2gspread) (4.0.0)\n",
      "Requirement already satisfied: idna<3,>=2.5 in /Library/Frameworks/Python.framework/Versions/3.9/lib/python3.9/site-packages (from requests>=2.0.0->requests-oauthlib>=0.7.0->google-auth-oauthlib>=0.4.1->gspread>=2.1.1->df2gspread) (2.10)\n",
      "Requirement already satisfied: certifi>=2017.4.17 in /Library/Frameworks/Python.framework/Versions/3.9/lib/python3.9/site-packages (from requests>=2.0.0->requests-oauthlib>=0.7.0->google-auth-oauthlib>=0.4.1->gspread>=2.1.1->df2gspread) (2022.9.24)\n",
      "Requirement already satisfied: urllib3<1.27,>=1.21.1 in /Library/Frameworks/Python.framework/Versions/3.9/lib/python3.9/site-packages (from requests>=2.0.0->requests-oauthlib>=0.7.0->google-auth-oauthlib>=0.4.1->gspread>=2.1.1->df2gspread) (1.26.3)\n",
      "Installing collected packages: argparse\n",
      "Successfully installed argparse-1.4.0\n",
      "\u001b[31mERROR: Could not find a version that satisfies the requirement time (from versions: none)\u001b[0m\u001b[31m\n",
      "\u001b[0m\u001b[31mERROR: No matching distribution found for time\u001b[0m\u001b[31m\n",
      "\u001b[0mRequirement already satisfied: chromedriver_autoinstaller in /Library/Frameworks/Python.framework/Versions/3.9/lib/python3.9/site-packages (0.4.0)\n",
      "Requirement already satisfied: fake_useragent in /Library/Frameworks/Python.framework/Versions/3.9/lib/python3.9/site-packages (0.1.13)\n",
      "Requirement already satisfied: datetime in /Library/Frameworks/Python.framework/Versions/3.9/lib/python3.9/site-packages (4.7)\n",
      "Requirement already satisfied: pytz in /Library/Frameworks/Python.framework/Versions/3.9/lib/python3.9/site-packages (from datetime) (2021.1)\n",
      "Requirement already satisfied: zope.interface in /Library/Frameworks/Python.framework/Versions/3.9/lib/python3.9/site-packages (from datetime) (5.5.1)\n",
      "Requirement already satisfied: setuptools in /Library/Frameworks/Python.framework/Versions/3.9/lib/python3.9/site-packages (from zope.interface->datetime) (62.1.0)\n",
      "Requirement already satisfied: undetected_chromedriver in /Library/Frameworks/Python.framework/Versions/3.9/lib/python3.9/site-packages (3.1.6)\n",
      "Requirement already satisfied: requests in /Library/Frameworks/Python.framework/Versions/3.9/lib/python3.9/site-packages (from undetected_chromedriver) (2.25.1)\n",
      "Requirement already satisfied: selenium>=4.0.0 in /Library/Frameworks/Python.framework/Versions/3.9/lib/python3.9/site-packages (from undetected_chromedriver) (4.6.0)\n",
      "Requirement already satisfied: websockets in /Library/Frameworks/Python.framework/Versions/3.9/lib/python3.9/site-packages (from undetected_chromedriver) (10.4)\n",
      "Requirement already satisfied: urllib3[socks]~=1.26 in /Library/Frameworks/Python.framework/Versions/3.9/lib/python3.9/site-packages (from selenium>=4.0.0->undetected_chromedriver) (1.26.3)\n",
      "Requirement already satisfied: trio-websocket~=0.9 in /Library/Frameworks/Python.framework/Versions/3.9/lib/python3.9/site-packages (from selenium>=4.0.0->undetected_chromedriver) (0.9.2)\n",
      "Requirement already satisfied: certifi>=2021.10.8 in /Library/Frameworks/Python.framework/Versions/3.9/lib/python3.9/site-packages (from selenium>=4.0.0->undetected_chromedriver) (2022.9.24)\n",
      "Requirement already satisfied: trio~=0.17 in /Library/Frameworks/Python.framework/Versions/3.9/lib/python3.9/site-packages (from selenium>=4.0.0->undetected_chromedriver) (0.19.0)\n",
      "Requirement already satisfied: idna<3,>=2.5 in /Library/Frameworks/Python.framework/Versions/3.9/lib/python3.9/site-packages (from requests->undetected_chromedriver) (2.10)\n",
      "Requirement already satisfied: chardet<5,>=3.0.2 in /Library/Frameworks/Python.framework/Versions/3.9/lib/python3.9/site-packages (from requests->undetected_chromedriver) (4.0.0)\n",
      "Requirement already satisfied: async-generator>=1.9 in /Library/Frameworks/Python.framework/Versions/3.9/lib/python3.9/site-packages (from trio~=0.17->selenium>=4.0.0->undetected_chromedriver) (1.10)\n",
      "Requirement already satisfied: sniffio in /Library/Frameworks/Python.framework/Versions/3.9/lib/python3.9/site-packages (from trio~=0.17->selenium>=4.0.0->undetected_chromedriver) (1.2.0)\n",
      "Requirement already satisfied: outcome in /Library/Frameworks/Python.framework/Versions/3.9/lib/python3.9/site-packages (from trio~=0.17->selenium>=4.0.0->undetected_chromedriver) (1.1.0)\n",
      "Requirement already satisfied: attrs>=19.2.0 in /Library/Frameworks/Python.framework/Versions/3.9/lib/python3.9/site-packages (from trio~=0.17->selenium>=4.0.0->undetected_chromedriver) (20.3.0)\n",
      "Requirement already satisfied: sortedcontainers in /Library/Frameworks/Python.framework/Versions/3.9/lib/python3.9/site-packages (from trio~=0.17->selenium>=4.0.0->undetected_chromedriver) (2.4.0)\n",
      "Requirement already satisfied: wsproto>=0.14 in /Library/Frameworks/Python.framework/Versions/3.9/lib/python3.9/site-packages (from trio-websocket~=0.9->selenium>=4.0.0->undetected_chromedriver) (1.0.0)\n",
      "Requirement already satisfied: PySocks!=1.5.7,<2.0,>=1.5.6 in /Library/Frameworks/Python.framework/Versions/3.9/lib/python3.9/site-packages (from urllib3[socks]~=1.26->selenium>=4.0.0->undetected_chromedriver) (1.7.1)\n",
      "Requirement already satisfied: h11<1,>=0.9.0 in /Library/Frameworks/Python.framework/Versions/3.9/lib/python3.9/site-packages (from wsproto>=0.14->trio-websocket~=0.9->selenium>=4.0.0->undetected_chromedriver) (0.12.0)\n",
      "Requirement already satisfied: webdriver_manager in /Library/Frameworks/Python.framework/Versions/3.9/lib/python3.9/site-packages (3.5.3)\n",
      "Requirement already satisfied: crayons in /Library/Frameworks/Python.framework/Versions/3.9/lib/python3.9/site-packages (from webdriver_manager) (0.4.0)\n",
      "Requirement already satisfied: requests in /Library/Frameworks/Python.framework/Versions/3.9/lib/python3.9/site-packages (from webdriver_manager) (2.25.1)\n",
      "Requirement already satisfied: configparser in /Library/Frameworks/Python.framework/Versions/3.9/lib/python3.9/site-packages (from webdriver_manager) (5.2.0)\n",
      "Requirement already satisfied: colorama in /Library/Frameworks/Python.framework/Versions/3.9/lib/python3.9/site-packages (from crayons->webdriver_manager) (0.4.4)\n",
      "Requirement already satisfied: certifi>=2017.4.17 in /Library/Frameworks/Python.framework/Versions/3.9/lib/python3.9/site-packages (from requests->webdriver_manager) (2022.9.24)\n",
      "Requirement already satisfied: idna<3,>=2.5 in /Library/Frameworks/Python.framework/Versions/3.9/lib/python3.9/site-packages (from requests->webdriver_manager) (2.10)\n",
      "Requirement already satisfied: urllib3<1.27,>=1.21.1 in /Library/Frameworks/Python.framework/Versions/3.9/lib/python3.9/site-packages (from requests->webdriver_manager) (1.26.3)\n",
      "Requirement already satisfied: chardet<5,>=3.0.2 in /Library/Frameworks/Python.framework/Versions/3.9/lib/python3.9/site-packages (from requests->webdriver_manager) (4.0.0)\n",
      "\u001b[31mERROR: Could not find a version that satisfies the requirement warnings (from versions: none)\u001b[0m\u001b[31m\n",
      "\u001b[0m\u001b[31mERROR: No matching distribution found for warnings\u001b[0m\u001b[31m\n",
      "\u001b[0m"
     ]
    }
   ],
   "source": [
    "! pip3 install -U selenium\n",
    "! pip3 install webdriver-manager\n",
    "! pip3 install pandas \n",
    "! pip3 install requests\n",
    "! pip3 install numpy\n",
    "! pip3 install bs4\n",
    "! pip3 install html\n",
    "! pip3 install tqdm\n",
    "! pip3 install gspread\n",
    "! pip3 install df2gspread\n",
    "! pip3 install time\n",
    "! pip3 install chromedriver_autoinstaller\n",
    "! pip3 install fake_useragent\n",
    "! pip3 install datetime\n",
    "! pip3 install undetected_chromedriver\n",
    "! pip3 install webdriver_manager\n",
    "! pip3 install warnings"
   ]
  },
  {
   "cell_type": "code",
   "execution_count": 1,
   "id": "e996f406",
   "metadata": {},
   "outputs": [],
   "source": [
    "import pandas as pd\n",
    "import requests\n",
    "import numpy as np\n",
    "from bs4 import BeautifulSoup\n",
    "import html\n",
    "from tqdm import tqdm\n",
    "import os\n",
    "import gspread\n",
    "import df2gspread as d2g\n",
    "import time\n",
    "import warnings\n",
    "warnings.filterwarnings(\"ignore\")"
   ]
  },
  {
   "cell_type": "code",
   "execution_count": 2,
   "id": "532ecd63",
   "metadata": {},
   "outputs": [
    {
     "data": {
      "text/plain": [
       "'/Library/Frameworks/Python.framework/Versions/3.9/lib/python3.9/site-packages/chromedriver_autoinstaller/107/chromedriver'"
      ]
     },
     "execution_count": 2,
     "metadata": {},
     "output_type": "execute_result"
    }
   ],
   "source": [
    "import chromedriver_autoinstaller as chromedriver\n",
    "chromedriver.install()"
   ]
  },
  {
   "cell_type": "code",
   "execution_count": 3,
   "id": "88740549",
   "metadata": {},
   "outputs": [
    {
     "name": "stdout",
     "output_type": "stream",
     "text": [
      "Collecting chromedriver-binary-auto\n",
      "  Using cached chromedriver_binary_auto-0.2.1-py3-none-any.whl\n",
      "Installing collected packages: chromedriver-binary-auto\n",
      "  Attempting uninstall: chromedriver-binary-auto\n",
      "    Found existing installation: chromedriver-binary-auto 0.2.1\n",
      "    Uninstalling chromedriver-binary-auto-0.2.1:\n",
      "      Successfully uninstalled chromedriver-binary-auto-0.2.1\n",
      "Successfully installed chromedriver-binary-auto-0.2.1\n"
     ]
    }
   ],
   "source": [
    "!pip install --upgrade --force-reinstall chromedriver-binary-auto\n",
    "import chromedriver_binary"
   ]
  },
  {
   "cell_type": "code",
   "execution_count": 4,
   "id": "6ccd3524",
   "metadata": {},
   "outputs": [],
   "source": [
    "from fake_useragent import UserAgent\n",
    "import datetime\n",
    "from selenium import webdriver\n",
    "from xvfbwrapper import Xvfb\n",
    "from selenium.webdriver.chrome.options import Options"
   ]
  },
  {
   "cell_type": "code",
   "execution_count": 5,
   "id": "d9d48685",
   "metadata": {},
   "outputs": [],
   "source": [
    "from selenium import webdriver\n",
    "from selenium.webdriver.chrome.service import Service\n",
    "import undetected_chromedriver\n",
    "\n",
    "options = webdriver.ChromeOptions()\n",
    "options.add_argument(\"user-agent=Mozilla/5.0 (X11; Ubuntu; Linux x86_64; rv:84.0) Gecko/20100101 Firefox/84.0\")\n",
    "options.add_argument(\"--disable-blink-features=AutomationControlled\")"
   ]
  },
  {
   "cell_type": "code",
   "execution_count": 6,
   "id": "3956d986",
   "metadata": {},
   "outputs": [
    {
     "name": "stderr",
     "output_type": "stream",
     "text": [
      "\n",
      "\n",
      "INFO:WDM:\n",
      "\n",
      "====== WebDriver manager ======\n",
      "INFO:WDM:====== WebDriver manager ======\n",
      "Current google-chrome version is 107.0.5304\n",
      "INFO:WDM:Current google-chrome version is 107.0.5304\n",
      "Get LATEST chromedriver version for 107.0.5304 google-chrome\n",
      "INFO:WDM:Get LATEST chromedriver version for 107.0.5304 google-chrome\n",
      "Driver [/Users/Nikon/.wdm/drivers/chromedriver/mac64/107.0.5304.62/chromedriver] found in cache\n",
      "INFO:WDM:Driver [/Users/Nikon/.wdm/drivers/chromedriver/mac64/107.0.5304.62/chromedriver] found in cache\n"
     ]
    }
   ],
   "source": [
    "from selenium import webdriver\n",
    "from selenium.webdriver.chrome.service import Service\n",
    "from webdriver_manager.chrome import ChromeDriverManager\n",
    "\n",
    "driver = webdriver.Chrome(service=Service(ChromeDriverManager().install()))\n",
    "driver.get(\"https://www.google.com\")\n",
    "driver.close()"
   ]
  },
  {
   "cell_type": "code",
   "execution_count": 8,
   "id": "6e8b1e4f",
   "metadata": {},
   "outputs": [],
   "source": [
    "#try:\n",
    "#    driver = undetected_chromedriver.Chrome()\n",
    "#    # driver.get(\"https://intoli.com/blog/not-possible-to-block-chrome-headless/chrome-headless-test.html\")\n",
    "#    driver.get(\"https://www.cian.ru/sale/flat/263173912/\")\n",
    "#    time.sleep(15)\n",
    "#    page_source = driver.page_source\n",
    "#except Exception as ex:\n",
    "#    print(ex)\n",
    "#finally:\n",
    "#    driver.close()\n",
    "#    driver.quit()"
   ]
  },
  {
   "cell_type": "code",
   "execution_count": 9,
   "id": "0495fd31",
   "metadata": {},
   "outputs": [],
   "source": [
    "def get_html(url):\n",
    "    req = requests.get(url, headers={\"User-Agent\": UserAgent().chrome})\n",
    "    return req.text.encode(req.encoding)"
   ]
  },
  {
   "cell_type": "code",
   "execution_count": 10,
   "id": "998bda72",
   "metadata": {},
   "outputs": [],
   "source": [
    "def get_title(soup):\n",
    "    try:\n",
    "        title = soup.find(\"h1\").text.strip()\n",
    "    except Exception as e:\n",
    "        #print(str(e) + \" title\")\n",
    "        title = \"Не указано\"\n",
    "    return title\n",
    "\n",
    "\n",
    "def get_address(soup):\n",
    "    try:\n",
    "        address = soup.find(\"address\").text.strip()\n",
    "        if \"На карте\" in address:\n",
    "            address = address[:address.rfind(\"На карте\")]\n",
    "        # separating data from the address string\n",
    "        district, street = \"Не указано\", \"Не указано\"\n",
    "        city = address.split(\",\")[1].strip()\n",
    "        block_number = address.split(\",\")[-1].strip()\n",
    "        if \"ул \" in block_number.lower() or \"ул.\" in block_number.lower() or \"улица\" in block_number.lower() \\\n",
    "                or \" пер\" in block_number.lower() or \"проезд\" in block_number.lower() or \"проспект\" in block_number.lower():\n",
    "            street = block_number\n",
    "            block_number = \"Не указано\"\n",
    "\n",
    "        for param in address.split(\",\")[1:-1]:\n",
    "            if \"ул \" in param.lower() or \"ул.\" in param.lower() or \"улица\" in param.lower() or \" пер\" in param.lower() \\\n",
    "                    or \"проезд\" in param.lower() or \"проспект\" in param.lower():\n",
    "                street = param.strip()\n",
    "            elif \"район\" in param.lower() or \"р-н\" in param.lower():\n",
    "                district = param.strip()\n",
    "\n",
    "        if street.split()[-1].strip().isdigit():\n",
    "            block_number = street.split()[-1].strip()\n",
    "            street = \" \".join(street.split()[:-1]).strip()\n",
    "\n",
    "        return city, district, street, block_number\n",
    "    except Exception as e:\n",
    "        with open(\"logs.txt\", \"a\", encoding=\"utf8\") as file:\n",
    "            file.write(str(e) + \" cian get_title\\n\")\n",
    "    return [\"Не указано\"] * 4\n",
    "\n",
    "\n",
    "def get_price(soup):\n",
    "    try:\n",
    "        price = soup.find(\"span\", {\"itemprop\": \"price\"})\n",
    "        if price is not None:\n",
    "            price = price.text.strip()\n",
    "        else:\n",
    "            price = \"от \" + soup.find(\"span\", {\"itemprop\": \"lowPrice\"}).text.strip() + \\\n",
    "                    \" до \" + soup.find(\"span\", {\"itemprop\": \"highPrice\"}).text.strip() + \"/мес.\"\n",
    "    except Exception as e:\n",
    "        with open(\"logs.txt\", \"a\", encoding=\"utf8\") as file:\n",
    "            file.write(str(e) + \" cian get_price\\n\")\n",
    "        price = \"Не указано\"\n",
    "    return price\n",
    "\n",
    "\n",
    "def get_selling_type(soup):\n",
    "    try:\n",
    "        paragraphs = [x for x in soup.find_all(\"p\") if x.get(\"class\") is not None\n",
    "                      and len(x.get(\"class\")) == 1 and \"description--\" in x.get(\"class\")[0]]\n",
    "        if paragraphs:\n",
    "            selling_type = paragraphs[0].text.strip()\n",
    "        else:\n",
    "            selling_type = \"Не указано\"\n",
    "    except Exception as e:\n",
    "        with open(\"logs.txt\", \"a\", encoding=\"utf8\") as file:\n",
    "            file.write(str(e) + \" cian get_selling_type\\n\")\n",
    "        selling_type = \"Не указано\"\n",
    "    return selling_type\n",
    "\n",
    "\n",
    "def get_seller_type(soup):\n",
    "    try:\n",
    "        divs = [x for x in soup.find_all(\"div\") if x.get(\"class\") is not None\n",
    "                and len(x.get(\"class\")) == 1 and \"honest-container\" in x.get(\"class\")[0]]\n",
    "        if not divs:\n",
    "            seller_type = \"Не указано\"\n",
    "        else:\n",
    "            seller_type = divs[0].text.strip()\n",
    "            if seller_type is not None and seller_type.lower() == \"собственник\":\n",
    "                seller_type = \"Собственник\"\n",
    "            else:\n",
    "                seller_type = \"Посредник\"\n",
    "    except Exception as e:\n",
    "        with open(\"logs.txt\", \"a\", encoding=\"utf8\") as file:\n",
    "            file.write(str(e) + \" cian get_seller_type\\n\")\n",
    "        seller_type = \"Не указано\"\n",
    "    return seller_type\n",
    "\n",
    "\n",
    "def get_seller_name(soup):\n",
    "    try:\n",
    "        name = [x for x in soup.find_all(\"h2\") if x.get(\"class\") is not None and len(x.get(\"class\")) == 1\n",
    "                and \"title--\" in x.get(\"class\")[0]]\n",
    "        if name:\n",
    "            name = name[0].text.strip()\n",
    "    except Exception as e:\n",
    "        with open(\"logs.txt\", \"a\", encoding=\"utf8\") as file:\n",
    "            file.write(str(e) + \" cian get_seller_name\\n\")\n",
    "        name = \"Не указано\"\n",
    "    return name\n",
    "\n",
    "\n",
    "def get_photos(url):\n",
    "    try:\n",
    "        driver = webdriver.Chrome()\n",
    "        driver.get(url)\n",
    "\n",
    "        images = []\n",
    "        images_list = driver.find_elements_by_class_name(\"fotorama__img\")\n",
    "        images_list = [x.get_attribute(\"src\") for x in images_list if \"-2.\" in x.get_attribute(\"src\")]\n",
    "        for image in images_list:\n",
    "            link = image.replace(\"-2.\", \"-1.\")\n",
    "            images.append(link)\n",
    "        images = \"\\n\".join(images)\n",
    "    except Exception as e:\n",
    "        with open(\"logs.txt\", \"a\", encoding=\"utf8\") as file:\n",
    "            file.write(str(e) + \" cian get_photos\\n\")\n",
    "        images = \"Не указано\"\n",
    "    return images\n",
    "\n",
    "\n",
    "def get_description(soup):\n",
    "    try:\n",
    "        paragraphs = [x for x in soup.find_all(\"p\") if x.get(\"class\") is not None\n",
    "                      and len(x.get(\"class\")) == 1 and \"description-text--\" in x.get(\"class\")[0]]\n",
    "        description = paragraphs[0].text.strip()\n",
    "    except Exception as e:\n",
    "        with open(\"logs.txt\", \"a\", encoding=\"utf8\") as file:\n",
    "            file.write(str(e) + \" cian get_description\\n\")\n",
    "        description = \"Не указано\"\n",
    "    return description\n",
    "\n",
    "\n",
    "def get_date(soup):\n",
    "    try:\n",
    "        date = soup.find(\"div\", id=\"frontend-offer-card\").find(\"main\").find_all(\"div\")[4].text.strip()\n",
    "        if \"вчера\" in date:\n",
    "            date = str(datetime.datetime.today() - datetime.timedelta(days=1)).split()[0]\n",
    "        elif \"сегодня\" in date:\n",
    "            date = str(datetime.datetime.today()).split()[0]\n",
    "        else:\n",
    "            date = \"too old\"\n",
    "    except Exception as e:\n",
    "        with open(\"logs.txt\", \"a\", encoding=\"utf8\") as file:\n",
    "            file.write(str(e) + \" cian get_date\\n\")\n",
    "        date = \"Не указано\"\n",
    "    return date\n"
   ]
  },
  {
   "cell_type": "code",
   "execution_count": 11,
   "id": "40a7b817",
   "metadata": {},
   "outputs": [],
   "source": [
    "def find_kitchen(soup):\n",
    "    temp_1 = soup.find_all('div', 'a10a3f92e9--info-value--bm3DC')\n",
    "    temp_2 = soup.find_all('div','a10a3f92e9--info-title--JWtIm')\n",
    "    j = 0\n",
    "    flag = 0\n",
    "    for i in temp_2:\n",
    "        if i.text == 'Кухня':\n",
    "            ind = j\n",
    "            flag = 1\n",
    "        j += 1\n",
    "    if flag == 0:\n",
    "        return('Не указано')\n",
    "    else:\n",
    "        return(temp_1[ind].text)"
   ]
  },
  {
   "cell_type": "code",
   "execution_count": 12,
   "id": "c2b65d93",
   "metadata": {},
   "outputs": [],
   "source": [
    "def find_floor(soup):\n",
    "    temp_1 = soup.find_all('div', 'a10a3f92e9--info-value--bm3DC')\n",
    "    temp_2 = soup.find_all('div','a10a3f92e9--info-title--JWtIm')\n",
    "    j = 0\n",
    "    flag = 0\n",
    "    for i in temp_2:\n",
    "        if i.text == 'Этаж':\n",
    "            ind = j\n",
    "            flag = 1\n",
    "        j += 1\n",
    "    if flag == 0:\n",
    "        return('Не указано')\n",
    "    else:\n",
    "        return(temp_1[ind].text)"
   ]
  },
  {
   "cell_type": "code",
   "execution_count": 13,
   "id": "66f27b23",
   "metadata": {},
   "outputs": [],
   "source": [
    "def find_finishing(soup):\n",
    "    temp_1 = soup.find_all('div', 'a10a3f92e9--info-value--bm3DC')\n",
    "    temp_2 = soup.find_all('div','a10a3f92e9--info-title--JWtIm')\n",
    "    j = 0\n",
    "    flag = 0\n",
    "    for i in temp_2:\n",
    "        if i.text == 'Отделка':\n",
    "            ind = j\n",
    "            flag = 1\n",
    "        j += 1\n",
    "    if flag == 0:\n",
    "        return('Не указано')\n",
    "    else:\n",
    "        return(temp_1[ind].text)"
   ]
  },
  {
   "cell_type": "code",
   "execution_count": 14,
   "id": "51166ae8",
   "metadata": {},
   "outputs": [],
   "source": [
    "def find_living(soup):\n",
    "    temp_1 = soup.find_all('div', 'a10a3f92e9--info-value--bm3DC')\n",
    "    temp_2 = soup.find_all('div','a10a3f92e9--info-title--JWtIm')\n",
    "    j = 0\n",
    "    flag = 0\n",
    "    for i in temp_2:\n",
    "        if i.text == 'Жилая':\n",
    "            ind = j\n",
    "            flag = 1\n",
    "        j += 1\n",
    "    if flag == 0:\n",
    "        return('Не указано')\n",
    "    else:\n",
    "        return(temp_1[ind].text)"
   ]
  },
  {
   "cell_type": "code",
   "execution_count": 135,
   "id": "55bda076",
   "metadata": {},
   "outputs": [],
   "source": [
    "def find_year(soup):\n",
    "    temp_1 = soup.find_all('div', 'a10a3f92e9--info-value--bm3DC')\n",
    "    temp_2 = soup.find_all('div','a10a3f92e9--info-title--JWtIm')\n",
    "    j = 0\n",
    "    flag = 0\n",
    "    for i in temp_2:\n",
    "        if i.text == 'Построен':\n",
    "            ind = j\n",
    "            flag = 1\n",
    "        j += 1\n",
    "    if flag == 0:\n",
    "        return('Не указано')\n",
    "    else:\n",
    "        return(temp_1[ind].text)"
   ]
  },
  {
   "cell_type": "code",
   "execution_count": 147,
   "id": "985f429a",
   "metadata": {},
   "outputs": [],
   "source": [
    "def type_floar(soup):\n",
    "    temp_3 = soup.find_all('span', 'a10a3f92e9--name--x7_lt')\n",
    "    temp_4 = soup.find_all('span','a10a3f92e9--value--Y34zN')\n",
    "    j = 0\n",
    "    flag = 0\n",
    "    for i in temp_3:\n",
    "        if i.text == 'Тип жилья':\n",
    "            ind = j\n",
    "            flag = 1\n",
    "        j += 1\n",
    "    if flag == 0:\n",
    "        return('Не указано')\n",
    "    else:\n",
    "        return(temp_4[ind].text)"
   ]
  },
  {
   "cell_type": "code",
   "execution_count": 148,
   "id": "fb3c3bf9",
   "metadata": {},
   "outputs": [],
   "source": [
    "def type_san(soup):\n",
    "    temp_3 = soup.find_all('span', 'a10a3f92e9--name--x7_lt')\n",
    "    temp_4 = soup.find_all('span','a10a3f92e9--value--Y34zN')\n",
    "    j = 0\n",
    "    flag = 0\n",
    "    for i in temp_3:\n",
    "        if i.text == 'Санузел':\n",
    "            ind = j\n",
    "            flag = 1\n",
    "        j += 1\n",
    "    if flag == 0:\n",
    "        return('Не указано')\n",
    "    else:\n",
    "        return(temp_4[ind].text)"
   ]
  },
  {
   "cell_type": "code",
   "execution_count": 149,
   "id": "2e263f5a",
   "metadata": {},
   "outputs": [],
   "source": [
    "def type_bal(soup):\n",
    "    temp_3 = soup.find_all('span', 'a10a3f92e9--name--x7_lt')\n",
    "    temp_4 = soup.find_all('span','a10a3f92e9--value--Y34zN')\n",
    "    j = 0\n",
    "    flag = 0\n",
    "    for i in temp_3:\n",
    "        if i.text == 'Балкон/лоджия' or i.text == 'Балкон':\n",
    "            ind = j\n",
    "            flag = 1\n",
    "        j += 1\n",
    "    if flag == 0:\n",
    "        return('Не указано')\n",
    "    else:\n",
    "        return(temp_4[ind].text)"
   ]
  },
  {
   "cell_type": "code",
   "execution_count": 150,
   "id": "023519e7",
   "metadata": {},
   "outputs": [],
   "source": [
    "def type_rem(soup):\n",
    "    temp_3 = soup.find_all('span', 'a10a3f92e9--name--x7_lt')\n",
    "    temp_4 = soup.find_all('span','a10a3f92e9--value--Y34zN')\n",
    "    j = 0\n",
    "    flag = 0\n",
    "    for i in temp_3:\n",
    "        if i.text == 'Ремонт':\n",
    "            ind = j\n",
    "            flag = 1\n",
    "        j += 1\n",
    "    if flag == 0:\n",
    "        return('Не указано')\n",
    "    else:\n",
    "        return(temp_4[ind].text)"
   ]
  },
  {
   "cell_type": "code",
   "execution_count": 288,
   "id": "2df66242",
   "metadata": {},
   "outputs": [],
   "source": [
    "def find_distance(soup):\n",
    "    temp_5 = soup.find_all('span', 'a10a3f92e9--highway_distance--wUNBn')\n",
    "    if len(temp_5) == 0:\n",
    "        temp_5 = soup.find_all('span', 'a10a3f92e9--underground_time--iOoHy')\n",
    "        temp_5_2 = soup.find_all('a', 'a10a3f92e9--underground_link--Sxo7K')\n",
    "        if len(temp_5_2) == 0:\n",
    "            return 'Не указано'\n",
    "        else: \n",
    "            return temp_5_2[0].text + temp_5[0].text\n",
    "    else:\n",
    "        return temp_5[0].text"
   ]
  },
  {
   "cell_type": "code",
   "execution_count": null,
   "id": "c5c6cf5e",
   "metadata": {},
   "outputs": [],
   "source": []
  },
  {
   "cell_type": "code",
   "execution_count": 248,
   "id": "32df4a11",
   "metadata": {},
   "outputs": [
    {
     "name": "stderr",
     "output_type": "stream",
     "text": [
      "  0%|                   | 89/279799596 [08:22<438887:36:27,  5.65s/it]\n"
     ]
    },
    {
     "ename": "KeyboardInterrupt",
     "evalue": "",
     "output_type": "error",
     "traceback": [
      "\u001b[0;31m---------------------------------------------------------------------------\u001b[0m",
      "\u001b[0;31mKeyboardInterrupt\u001b[0m                         Traceback (most recent call last)",
      "Input \u001b[0;32mIn [248]\u001b[0m, in \u001b[0;36m<cell line: 37>\u001b[0;34m()\u001b[0m\n\u001b[1;32m     53\u001b[0m \u001b[38;5;66;03m#options = webdriver.ChromeOptions()\u001b[39;00m\n\u001b[1;32m     54\u001b[0m \u001b[38;5;66;03m#options.add_argument('--proxy-server={}'.format(proxies[j]))\u001b[39;00m\n\u001b[1;32m     55\u001b[0m \u001b[38;5;66;03m#driver = webdriver.Chrome(options=options,executable_path='/Users/Nikon/.wdm/drivers/chromedriver/mac64/107.0.5304.62/chromedriver')\u001b[39;00m\n\u001b[1;32m     56\u001b[0m driver\u001b[38;5;241m.\u001b[39mget(url)\n\u001b[0;32m---> 57\u001b[0m \u001b[43mtime\u001b[49m\u001b[38;5;241;43m.\u001b[39;49m\u001b[43msleep\u001b[49m\u001b[43m(\u001b[49m\u001b[38;5;241;43m5\u001b[39;49m\u001b[43m)\u001b[49m\n\u001b[1;32m     58\u001b[0m page_source \u001b[38;5;241m=\u001b[39m driver\u001b[38;5;241m.\u001b[39mpage_source\n\u001b[1;32m     59\u001b[0m soup \u001b[38;5;241m=\u001b[39m BeautifulSoup(page_source, \u001b[38;5;124m'\u001b[39m\u001b[38;5;124mlxml\u001b[39m\u001b[38;5;124m'\u001b[39m)\n",
      "\u001b[0;31mKeyboardInterrupt\u001b[0m: "
     ]
    }
   ],
   "source": [
    "from selenium import webdriver\n",
    "from selenium.webdriver.support.ui import WebDriverWait\n",
    "from selenium.webdriver.common.by import By\n",
    "from selenium.webdriver.support import expected_conditions as EC\n",
    "from selenium.common.exceptions import TimeoutException\n",
    "#C:\\\\WebDrivers\\\\chromedriver.exe' для винды\n",
    "driver = undetected_chromedriver.Chrome()\n",
    "driver.get('https://www.cian.ru/cat.php?deal_type=sale&engine_version=2&offer_type=flat&region=1&room1=1&room2=1&room3=1&room4=1&room5=1&room6=1&sort=creation_date_desc')\n",
    "page_source = driver.page_source\n",
    "soup = BeautifulSoup(page_source, 'lxml')\n",
    "temp_7 = soup.find_all('a', '_93444fe79c--link--eoxce')\n",
    "to_iter = int(temp_7[0]['href'].split('/')[-2])\n",
    "#options = webdriver.ChromeOptions()\n",
    "#options.add_argument(\"start-maximized\")\n",
    "#options.add_experimental_option(\"excludeSwitches\", [\"enable-automation\"])\n",
    "#options.add_experimental_option('useAutomationExtension', False)\n",
    "#driver = webdriver.Chrome(chrome_options=options,executable_path='/Users/Nikon/.wdm/drivers/chromedriver/mac64/107.0.5304.62/chromedriver')\n",
    "#driver.get(\"https://sslproxies.org/\")\n",
    "#driver = webdriver.Chrome()\n",
    "#driver.execute_script(\"return arguments[0].scrollIntoView(true);\", WebDriverWait(driver, 20).until(EC.visibility_of_element_located((By.XPATH, \"//table[@class='table table-striped table-bordered dataTable']//th[contains(., 'IP Address')]\"))))\n",
    "#ips = [my_elem.get_attribute(\"innerHTML\") for my_elem in WebDriverWait(driver, 5).until(EC.visibility_of_all_elements_located((By.XPATH, \"//table[@class='table table-striped table-bordered dataTable']//tbody//tr[@role='row']/td[position() = 1]\")))]\n",
    "#ports = [my_elem.get_attribute(\"innerHTML\") for my_elem in WebDriverWait(driver, 5).until(EC.visibility_of_all_elements_located((By.XPATH, \"//table[@class='table table-striped table-bordered dataTable']//tbody//tr[@role='row']/td[position() = 2]\")))]\n",
    "#driver.quit()\n",
    "driver.close()\n",
    "driver = undetected_chromedriver.Chrome()\n",
    "resp = requests.get('https://free-proxy-list.net/') \n",
    "df = pd.read_html(resp.text)[0]\n",
    "proxies = []\n",
    "for i in range(0,len(df)):\n",
    "    proxies.append(str(df['IP Address'][i])+':'+str(df['Port'][i]))\n",
    "j = -1\n",
    "df = pd.DataFrame(columns=['id','Link','Date','Address','Число комнат','Цена','Общая площадь','Жилая площадь кв',\n",
    "                          'Площадь кухни','Этаж','Этажей в доме', 'Отделка','Расстояние до метро','Год постройки', 'Тип жилья',\n",
    "                          'Санузел','Балкон','Ремонт'])\n",
    "\n",
    "k = 0 \n",
    "for i in tqdm(range(0,to_iter)):\n",
    "    j += 1\n",
    "    if j > len(proxies):\n",
    "        j = 0\n",
    "#        try:\n",
    "#            print(\"Proxy selected: {}\".format(proxies[i]))\n",
    "#            options = webdriver.ChromeOptions()\n",
    "#            options.add_argument('--proxy-server={}'.format(proxies[i]))\n",
    "#            driver = webdriver.Chrome(options=options,executable_path='/Users/Nikon/.wdm/drivers/chromedriver/mac64/107.0.5304.62/chromedriver')\n",
    "#            driver.get(\"https://www.whatismyip.com/proxy-check/?iref=home\")\n",
    "#            if \"Proxy Type\" in WebDriverWait(driver, 5).until(EC.visibility_of_element_located((By.CSS_SELECTOR, \"p.card-text\"))):\n",
    "#                break\n",
    "#        except Exception:\n",
    "#           driver.quit()\n",
    "\n",
    "    url = 'https://www.cian.ru/sale/flat/'+str(i)\n",
    "    #options = webdriver.ChromeOptions()\n",
    "    #options.add_argument('--proxy-server={}'.format(proxies[j]))\n",
    "    #driver = webdriver.Chrome(options=options,executable_path='/Users/Nikon/.wdm/drivers/chromedriver/mac64/107.0.5304.62/chromedriver')\n",
    "    driver.get(url)\n",
    "    time.sleep(5)\n",
    "    page_source = driver.page_source\n",
    "    soup = BeautifulSoup(page_source, 'lxml')\n",
    "    temp_6 = soup.find_all('div', 'a10a3f92e9--container--RXoIe')\n",
    "    temp = soup.find('h1', 'a10a3f92e9--title--UEAG3')\n",
    "    #print(soup.find('title').text.split()[0])\n",
    "    if soup.find('title').text.split()[0] == 'Ошибка':\n",
    "        continue\n",
    "    elif temp.text.split()[0].split('-')[0] == 'Участок,':\n",
    "        continue\n",
    "    elif soup.find(\"address\").text.strip(',').split()[0] != 'Москва':\n",
    "        continue\n",
    "    elif temp_6[0].text == 'Объявление снято с публикации':\n",
    "        continue\n",
    "    else:\n",
    "        df.loc[ len(df.index )] = [np.nan,np.nan,np.nan,np.nan,np.nan,np.nan,np.nan,np.nan,np.nan,np.nan,np.nan,np.nan,np.nan,\n",
    "                                  np.nan,np.nan,np.nan,np.nan,np.nan]\n",
    "        df['id'][k] = i\n",
    "        df['Link'][k] = url\n",
    "        df['Date'][k] = get_date(soup)\n",
    "        df['Address'][k] = soup.find(\"address\").text.strip()\n",
    "        temp = soup.find('h1', 'a10a3f92e9--title--UEAG3')\n",
    "        df['Число комнат'][k] = temp.text.split()[0].split('-')[0]\n",
    "        df['Цена'][k] = get_price(soup).replace('\\xa0','').replace('₽', '')\n",
    "        temp = soup.find('h1', 'a10a3f92e9--title--UEAG3')\n",
    "        df['Общая площадь'][k] = temp.text.split()[2].replace(',', '.')\n",
    "        df['Расстояние до метро'][k] = find_distance(soup)\n",
    "        \n",
    "        if find_living(soup) == 'Не указано':\n",
    "            df['Жилая площадь кв'][k] = 'Не указано'\n",
    "        else: \n",
    "            df['Жилая площадь кв'][k] = find_living(soup).split()[0].replace(',', '.')\n",
    "        if find_kitchen(soup) == 'Не указано':\n",
    "            df['Площадь кухни'][k] = 'Не указано'\n",
    "        else: \n",
    "            df['Площадь кухни'][k] = find_kitchen(soup).split()[0].replace(',', '.')\n",
    "        if find_floor(soup) == 'Не указано':\n",
    "            df['Этаж'][k] = 'Не указано'\n",
    "        else:\n",
    "            df['Этаж'][k] = (find_floor(soup).split()[0])\n",
    "                          \n",
    "        if find_floor(soup) == 'Не указано':\n",
    "            df['Этажей в доме'][k] = 'Не указано'\n",
    "        else: \n",
    "            df['Этажей в доме'][k] = find_floor(soup).split()[2]\n",
    "        if find_finishing(soup) == 'Не указано':\n",
    "            df['Отделка'][k] = 'Не указано'\n",
    "        else:\n",
    "            df['Отделка'][k] = find_finishing(soup)\n",
    "        if find_year(soup) == 'Не указано':\n",
    "            df['Год постройки'][k] = 'Не указано'\n",
    "        else:\n",
    "            df['Год постройки'][k] = find_year(soup)\n",
    "        if type_floar(soup) == 'Не указано':\n",
    "            df['Тип жилья'][k] = 'Не указано'\n",
    "        else:\n",
    "            df['Тип жилья'][k] = type_floar(soup)\n",
    "        if type_san(soup) == 'Не указано':\n",
    "            df['Санузел'][k] = 'Не указано'\n",
    "        else:\n",
    "            df['Санузел'][k] = type_san(soup)\n",
    "        if type_bal(soup) == 'Не указано':\n",
    "            df['Балкон'][k] = 'Не указано'\n",
    "        else:\n",
    "            df['Балкон'][k] = type_bal(soup)\n",
    "        if type_rem(soup) == 'Не указано':\n",
    "            df['Ремонт'][k] = 'Не указано'\n",
    "        else:\n",
    "            df['Ремонт'][k] = type_rem(soup)\n",
    "        k += 1"
   ]
  },
  {
   "cell_type": "code",
   "execution_count": 270,
   "id": "ff84726b",
   "metadata": {},
   "outputs": [],
   "source": [
    "driver = undetected_chromedriver.Chrome()\n",
    "driver.get('https://www.cian.ru/cat.php?deal_type=sale&engine_version=2&offer_type=flat&region=1&room1=1&room2=1&room3=1&room4=1&room5=1&room6=1&sort=creation_date_desc')\n",
    "page_source = driver.page_source\n",
    "soup = BeautifulSoup(page_source, 'lxml')\n",
    "temp_7 = soup.find_all('a', '_93444fe79c--link--eoxce')\n",
    "hrefs = []"
   ]
  },
  {
   "cell_type": "code",
   "execution_count": 271,
   "id": "ccc0d5b0",
   "metadata": {},
   "outputs": [],
   "source": [
    "for i in range(0,len(temp_7)):\n",
    "    hrefs.append(temp_7[i]['href'])"
   ]
  },
  {
   "cell_type": "code",
   "execution_count": 272,
   "id": "0d96202e",
   "metadata": {},
   "outputs": [
    {
     "data": {
      "text/plain": [
       "['https://www.cian.ru/sale/flat/279800615/',\n",
       " 'https://www.cian.ru/sale/flat/279800556/',\n",
       " 'https://www.cian.ru/sale/flat/279800554/',\n",
       " 'https://www.cian.ru/sale/flat/279800523/',\n",
       " 'https://www.cian.ru/sale/flat/279800458/',\n",
       " 'https://www.cian.ru/sale/flat/279800445/',\n",
       " 'https://www.cian.ru/sale/flat/279800429/',\n",
       " 'https://www.cian.ru/sale/flat/279800342/',\n",
       " 'https://www.cian.ru/sale/flat/279800323/',\n",
       " 'https://www.cian.ru/sale/flat/279800294/',\n",
       " 'https://www.cian.ru/sale/flat/279800285/',\n",
       " 'https://www.cian.ru/sale/flat/279800259/',\n",
       " 'https://www.cian.ru/sale/flat/279800206/',\n",
       " 'https://www.cian.ru/sale/flat/279800199/',\n",
       " 'https://www.cian.ru/sale/flat/279800198/',\n",
       " 'https://www.cian.ru/sale/flat/279799826/',\n",
       " 'https://www.cian.ru/sale/flat/279799817/',\n",
       " 'https://www.cian.ru/sale/flat/279799784/',\n",
       " 'https://www.cian.ru/sale/flat/279799738/',\n",
       " 'https://www.cian.ru/sale/flat/279799730/',\n",
       " 'https://www.cian.ru/sale/flat/279799729/',\n",
       " 'https://www.cian.ru/sale/flat/279799710/',\n",
       " 'https://www.cian.ru/sale/flat/279799669/',\n",
       " 'https://www.cian.ru/sale/flat/279799596/',\n",
       " 'https://www.cian.ru/sale/flat/279799573/',\n",
       " 'https://www.cian.ru/sale/flat/279799557/',\n",
       " 'https://www.cian.ru/sale/flat/279799539/',\n",
       " 'https://www.cian.ru/sale/flat/279799534/']"
      ]
     },
     "execution_count": 272,
     "metadata": {},
     "output_type": "execute_result"
    }
   ],
   "source": [
    "hrefs"
   ]
  },
  {
   "cell_type": "code",
   "execution_count": 273,
   "id": "52c8b0c8",
   "metadata": {},
   "outputs": [],
   "source": [
    "driver.close()\n",
    "driver = undetected_chromedriver.Chrome()"
   ]
  },
  {
   "cell_type": "code",
   "execution_count": 284,
   "id": "09830ee3",
   "metadata": {},
   "outputs": [],
   "source": [
    "url = hrefs[1]\n",
    "driver.get(url)\n",
    "time.sleep(5)\n",
    "page_source = driver.page_source\n",
    "soup = BeautifulSoup(page_source, 'lxml')\n",
    "temp_5 = soup.find_all('span', 'a10a3f92e9--highway_distance--wUNBn')\n",
    "temp_5_1 = soup.find_all('span', 'a10a3f92e9--underground_time--iOoHy')\n",
    "#tmpp = find_distance(soup)"
   ]
  },
  {
   "cell_type": "code",
   "execution_count": 287,
   "id": "1964c853",
   "metadata": {},
   "outputs": [
    {
     "data": {
      "text/plain": [
       "'Минская ⋅  8 мин. пешком'"
      ]
     },
     "execution_count": 287,
     "metadata": {},
     "output_type": "execute_result"
    }
   ],
   "source": [
    "temp_5_2 = soup.find_all('a', 'a10a3f92e9--underground_link--Sxo7K')\n",
    "temp_5_2[0].text + temp_5_1[0].text"
   ]
  },
  {
   "cell_type": "code",
   "execution_count": null,
   "id": "8a65e544",
   "metadata": {},
   "outputs": [
    {
     "name": "stderr",
     "output_type": "stream",
     "text": [
      " 75%|████████████████████████▊        | 21/28 [04:11<01:04,  9.25s/it]"
     ]
    }
   ],
   "source": [
    "from selenium import webdriver\n",
    "from selenium.webdriver.support.ui import WebDriverWait\n",
    "from selenium.webdriver.common.by import By\n",
    "from selenium.webdriver.support import expected_conditions as EC\n",
    "from selenium.common.exceptions import TimeoutException\n",
    "#C:\\\\WebDrivers\\\\chromedriver.exe' для винды\n",
    "driver = undetected_chromedriver.Chrome()\n",
    "driver.get('https://www.cian.ru/cat.php?deal_type=sale&engine_version=2&offer_type=flat&region=1&room1=1&room2=1&room3=1&room4=1&room5=1&room6=1&sort=creation_date_desc')\n",
    "page_source = driver.page_source\n",
    "soup = BeautifulSoup(page_source, 'lxml')\n",
    "temp_7 = soup.find_all('a', '_93444fe79c--link--eoxce')\n",
    "hrefs = []\n",
    "for i in range(0,len(temp_7)):\n",
    "    hrefs.append(temp_7[i]['href'])\n",
    "#options = webdriver.ChromeOptions()\n",
    "#options.add_argument(\"start-maximized\")\n",
    "#options.add_experimental_option(\"excludeSwitches\", [\"enable-automation\"])\n",
    "#options.add_experimental_option('useAutomationExtension', False)\n",
    "#driver = webdriver.Chrome(chrome_options=options,executable_path='/Users/Nikon/.wdm/drivers/chromedriver/mac64/107.0.5304.62/chromedriver')\n",
    "#driver.get(\"https://sslproxies.org/\")\n",
    "#driver = webdriver.Chrome()\n",
    "#driver.execute_script(\"return arguments[0].scrollIntoView(true);\", WebDriverWait(driver, 20).until(EC.visibility_of_element_located((By.XPATH, \"//table[@class='table table-striped table-bordered dataTable']//th[contains(., 'IP Address')]\"))))\n",
    "#ips = [my_elem.get_attribute(\"innerHTML\") for my_elem in WebDriverWait(driver, 5).until(EC.visibility_of_all_elements_located((By.XPATH, \"//table[@class='table table-striped table-bordered dataTable']//tbody//tr[@role='row']/td[position() = 1]\")))]\n",
    "#ports = [my_elem.get_attribute(\"innerHTML\") for my_elem in WebDriverWait(driver, 5).until(EC.visibility_of_all_elements_located((By.XPATH, \"//table[@class='table table-striped table-bordered dataTable']//tbody//tr[@role='row']/td[position() = 2]\")))]\n",
    "#driver.quit()\n",
    "driver.close()\n",
    "driver = undetected_chromedriver.Chrome()\n",
    "resp = requests.get('https://free-proxy-list.net/') \n",
    "df = pd.read_html(resp.text)[0]\n",
    "proxies = []\n",
    "for i in range(0,len(hrefs)):\n",
    "    proxies.append(str(df['IP Address'][i])+':'+str(df['Port'][i]))\n",
    "j = -1\n",
    "df = pd.DataFrame(columns=['id','Link','Date','Address','Число комнат','Цена','Общая площадь','Жилая площадь кв',\n",
    "                          'Площадь кухни','Этаж','Этажей в доме', 'Отделка','Расстояние до метро','Год постройки', 'Тип жилья',\n",
    "                          'Санузел','Балкон','Ремонт'])\n",
    "\n",
    "k = 0 \n",
    "for i in tqdm(range(0,len(hrefs))):\n",
    "    j += 1\n",
    "    if j > len(proxies):\n",
    "        j = 0\n",
    "#        try:\n",
    "#            print(\"Proxy selected: {}\".format(proxies[i]))\n",
    "#            options = webdriver.ChromeOptions()\n",
    "#            options.add_argument('--proxy-server={}'.format(proxies[i]))\n",
    "#            driver = webdriver.Chrome(options=options,executable_path='/Users/Nikon/.wdm/drivers/chromedriver/mac64/107.0.5304.62/chromedriver')\n",
    "#            driver.get(\"https://www.whatismyip.com/proxy-check/?iref=home\")\n",
    "#            if \"Proxy Type\" in WebDriverWait(driver, 5).until(EC.visibility_of_element_located((By.CSS_SELECTOR, \"p.card-text\"))):\n",
    "#                break\n",
    "#        except Exception:\n",
    "#           driver.quit()\n",
    "\n",
    "    url = hrefs[i]\n",
    "    #options = webdriver.ChromeOptions()\n",
    "    #options.add_argument('--proxy-server={}'.format(proxies[j]))\n",
    "    #driver = webdriver.Chrome(options=options,executable_path='/Users/Nikon/.wdm/drivers/chromedriver/mac64/107.0.5304.62/chromedriver')\n",
    "    driver.get(url)\n",
    "    time.sleep(5)\n",
    "    page_source = driver.page_source\n",
    "    soup = BeautifulSoup(page_source, 'lxml')\n",
    "    temp = soup.find('h1', 'a10a3f92e9--title--UEAG3')\n",
    "    #print(soup.find('title').text.split()[0])\n",
    "    if soup.find('title').text.split()[0] == 'Ошибка':\n",
    "        continue\n",
    "    elif temp.text.split()[0].split('-')[0] == 'Участок,':\n",
    "        continue\n",
    "#    if soup.find(\"address\").text.strip(',').split()[0] != 'Москва':\n",
    "#        continue\n",
    "#    temp_6 = soup.find_all('div', 'a10a3f92e9--container--RXoIe')\n",
    "#    if temp_6[0].text == 'Объявление снято с публикации':\n",
    "#        continue\n",
    "    else:\n",
    "        df.loc[ len(df.index )] = [np.nan,np.nan,np.nan,np.nan,np.nan,np.nan,np.nan,np.nan,np.nan,np.nan,np.nan,np.nan,np.nan,\n",
    "                                  np.nan,np.nan,np.nan,np.nan,np.nan]\n",
    "        df['id'][k] = i\n",
    "        df['Link'][k] = url\n",
    "        df['Date'][k] = get_date(soup)\n",
    "        df['Address'][k] = soup.find(\"address\").text.strip()\n",
    "        temp = soup.find('h1', 'a10a3f92e9--title--UEAG3')\n",
    "        df['Число комнат'][k] = temp.text.split()[0].split('-')[0]\n",
    "        df['Цена'][k] = get_price(soup).replace('\\xa0','').replace('₽', '')\n",
    "        temp = soup.find('h1', 'a10a3f92e9--title--UEAG3')\n",
    "        df['Общая площадь'][k] = temp.text.split()[2].replace(',', '.')\n",
    "        df['Расстояние до метро'][k] = find_distance(soup)\n",
    "        \n",
    "        if find_living(soup) == 'Не указано':\n",
    "            df['Жилая площадь кв'][k] = 'Не указано'\n",
    "        else: \n",
    "            df['Жилая площадь кв'][k] = find_living(soup).split()[0].replace(',', '.')\n",
    "        if find_kitchen(soup) == 'Не указано':\n",
    "            df['Площадь кухни'][k] = 'Не указано'\n",
    "        else: \n",
    "            df['Площадь кухни'][k] = find_kitchen(soup).split()[0].replace(',', '.')\n",
    "        if find_floor(soup) == 'Не указано':\n",
    "            df['Этаж'][k] = 'Не указано'\n",
    "        else:\n",
    "            df['Этаж'][k] = (find_floor(soup).split()[0])\n",
    "                          \n",
    "        if find_floor(soup) == 'Не указано':\n",
    "            df['Этажей в доме'][k] = 'Не указано'\n",
    "        else: \n",
    "            df['Этажей в доме'][k] = find_floor(soup).split()[2]\n",
    "        if find_finishing(soup) == 'Не указано':\n",
    "            df['Отделка'][k] = 'Не указано'\n",
    "        else:\n",
    "            df['Отделка'][k] = find_finishing(soup)\n",
    "        if find_year(soup) == 'Не указано':\n",
    "            df['Год постройки'][k] = 'Не указано'\n",
    "        else:\n",
    "            df['Год постройки'][k] = find_year(soup)\n",
    "        if type_floar(soup) == 'Не указано':\n",
    "            df['Тип жилья'][k] = 'Не указано'\n",
    "        else:\n",
    "            df['Тип жилья'][k] = type_floar(soup)\n",
    "        if type_san(soup) == 'Не указано':\n",
    "            df['Санузел'][k] = 'Не указано'\n",
    "        else:\n",
    "            df['Санузел'][k] = type_san(soup)\n",
    "        if type_bal(soup) == 'Не указано':\n",
    "            df['Балкон'][k] = 'Не указано'\n",
    "        else:\n",
    "            df['Балкон'][k] = type_bal(soup)\n",
    "        if type_rem(soup) == 'Не указано':\n",
    "            df['Ремонт'][k] = 'Не указано'\n",
    "        else:\n",
    "            df['Ремонт'][k] = type_rem(soup)\n",
    "        k += 1"
   ]
  },
  {
   "cell_type": "code",
   "execution_count": 290,
   "id": "a3ef9176",
   "metadata": {},
   "outputs": [
    {
     "data": {
      "text/html": [
       "<div>\n",
       "<style scoped>\n",
       "    .dataframe tbody tr th:only-of-type {\n",
       "        vertical-align: middle;\n",
       "    }\n",
       "\n",
       "    .dataframe tbody tr th {\n",
       "        vertical-align: top;\n",
       "    }\n",
       "\n",
       "    .dataframe thead th {\n",
       "        text-align: right;\n",
       "    }\n",
       "</style>\n",
       "<table border=\"1\" class=\"dataframe\">\n",
       "  <thead>\n",
       "    <tr style=\"text-align: right;\">\n",
       "      <th></th>\n",
       "      <th>id</th>\n",
       "      <th>Link</th>\n",
       "      <th>Date</th>\n",
       "      <th>Address</th>\n",
       "      <th>Число комнат</th>\n",
       "      <th>Цена</th>\n",
       "      <th>Общая площадь</th>\n",
       "      <th>Жилая площадь кв</th>\n",
       "      <th>Площадь кухни</th>\n",
       "      <th>Этаж</th>\n",
       "      <th>Этажей в доме</th>\n",
       "      <th>Отделка</th>\n",
       "      <th>Расстояние до метро</th>\n",
       "      <th>Год постройки</th>\n",
       "      <th>Тип жилья</th>\n",
       "      <th>Санузел</th>\n",
       "      <th>Балкон</th>\n",
       "      <th>Ремонт</th>\n",
       "    </tr>\n",
       "  </thead>\n",
       "  <tbody>\n",
       "    <tr>\n",
       "      <th>0</th>\n",
       "      <td>0.0</td>\n",
       "      <td>https://www.cian.ru/sale/flat/279800980/</td>\n",
       "      <td>2022-11-06</td>\n",
       "      <td>Москва, ЦАО, р-н Таганский, Новорогожская ул.,...</td>\n",
       "      <td>1</td>\n",
       "      <td>14500000</td>\n",
       "      <td>40.3</td>\n",
       "      <td>18.7</td>\n",
       "      <td>9.7</td>\n",
       "      <td>12</td>\n",
       "      <td>25</td>\n",
       "      <td>Не указано</td>\n",
       "      <td>Проспект Вернадского ⋅  7 мин. пешком</td>\n",
       "      <td>2004</td>\n",
       "      <td>Вторичка</td>\n",
       "      <td>1 раздельный</td>\n",
       "      <td>1 лоджия</td>\n",
       "      <td>Дизайнерский</td>\n",
       "    </tr>\n",
       "    <tr>\n",
       "      <th>1</th>\n",
       "      <td>1.0</td>\n",
       "      <td>https://www.cian.ru/sale/flat/279800832/</td>\n",
       "      <td>2022-11-06</td>\n",
       "      <td>Москва, ЮВАО, р-н Люблино, ул. Верхние Поля, 2...</td>\n",
       "      <td>1</td>\n",
       "      <td>7400000</td>\n",
       "      <td>25</td>\n",
       "      <td>14</td>\n",
       "      <td>5</td>\n",
       "      <td>2</td>\n",
       "      <td>9</td>\n",
       "      <td>Не указано</td>\n",
       "      <td>Проспект Вернадского ⋅  7 мин. пешком</td>\n",
       "      <td>1971</td>\n",
       "      <td>Вторичка</td>\n",
       "      <td>Не указано</td>\n",
       "      <td>Не указано</td>\n",
       "      <td>Евроремонт</td>\n",
       "    </tr>\n",
       "    <tr>\n",
       "      <th>2</th>\n",
       "      <td>2.0</td>\n",
       "      <td>https://www.cian.ru/sale/flat/279800819/</td>\n",
       "      <td>2022-11-06</td>\n",
       "      <td>Москва, СВАО, р-н Лосиноостровский, Анадырский...</td>\n",
       "      <td>2</td>\n",
       "      <td>14940000</td>\n",
       "      <td>58</td>\n",
       "      <td>34</td>\n",
       "      <td>10</td>\n",
       "      <td>8</td>\n",
       "      <td>17</td>\n",
       "      <td>Не указано</td>\n",
       "      <td>Проспект Вернадского ⋅  7 мин. пешком</td>\n",
       "      <td>1996</td>\n",
       "      <td>Вторичка</td>\n",
       "      <td>1 раздельный</td>\n",
       "      <td>1 лоджия</td>\n",
       "      <td>Евроремонт</td>\n",
       "    </tr>\n",
       "    <tr>\n",
       "      <th>3</th>\n",
       "      <td>3.0</td>\n",
       "      <td>https://www.cian.ru/sale/flat/279800808/</td>\n",
       "      <td>2022-11-06</td>\n",
       "      <td>Москва, ЦАО, р-н Пресненский, Стрельбищенский ...</td>\n",
       "      <td>2</td>\n",
       "      <td>18000000</td>\n",
       "      <td>56.1</td>\n",
       "      <td>35.9</td>\n",
       "      <td>8.4</td>\n",
       "      <td>4</td>\n",
       "      <td>5</td>\n",
       "      <td>Не указано</td>\n",
       "      <td>Проспект Вернадского ⋅  7 мин. пешком</td>\n",
       "      <td>1958</td>\n",
       "      <td>Вторичка</td>\n",
       "      <td>1 раздельный</td>\n",
       "      <td>1 балкон</td>\n",
       "      <td>Косметический</td>\n",
       "    </tr>\n",
       "    <tr>\n",
       "      <th>4</th>\n",
       "      <td>4.0</td>\n",
       "      <td>https://www.cian.ru/sale/flat/279800804/</td>\n",
       "      <td>2022-11-06</td>\n",
       "      <td>Москва, НАО (Новомосковский), Сосенское поселе...</td>\n",
       "      <td>1</td>\n",
       "      <td>9450000</td>\n",
       "      <td>39.4</td>\n",
       "      <td>16</td>\n",
       "      <td>11</td>\n",
       "      <td>6</td>\n",
       "      <td>12</td>\n",
       "      <td>Не указано</td>\n",
       "      <td>Проспект Вернадского ⋅  7 мин. пешком</td>\n",
       "      <td>2021</td>\n",
       "      <td>Вторичка</td>\n",
       "      <td>Не указано</td>\n",
       "      <td>1 лоджия</td>\n",
       "      <td>Дизайнерский</td>\n",
       "    </tr>\n",
       "    <tr>\n",
       "      <th>5</th>\n",
       "      <td>5.0</td>\n",
       "      <td>https://www.cian.ru/sale/flat/279800791/</td>\n",
       "      <td>2022-11-06</td>\n",
       "      <td>Москва, ЮВАО, р-н Кузьминки, ул. Юных Ленинцев...</td>\n",
       "      <td>2</td>\n",
       "      <td>8200000</td>\n",
       "      <td>37.3</td>\n",
       "      <td>23</td>\n",
       "      <td>7.5</td>\n",
       "      <td>1</td>\n",
       "      <td>9</td>\n",
       "      <td>Не указано</td>\n",
       "      <td>Проспект Вернадского ⋅  7 мин. пешком</td>\n",
       "      <td>1961</td>\n",
       "      <td>Вторичка</td>\n",
       "      <td>1 раздельный</td>\n",
       "      <td>Не указано</td>\n",
       "      <td>Без ремонта</td>\n",
       "    </tr>\n",
       "    <tr>\n",
       "      <th>6</th>\n",
       "      <td>6.0</td>\n",
       "      <td>https://www.cian.ru/sale/flat/279800787/</td>\n",
       "      <td>2022-11-06</td>\n",
       "      <td>Москва, САО, р-н Ховрино, Петрозаводская ул., ...</td>\n",
       "      <td>1</td>\n",
       "      <td>11000000</td>\n",
       "      <td>38.1</td>\n",
       "      <td>18</td>\n",
       "      <td>9</td>\n",
       "      <td>11</td>\n",
       "      <td>16</td>\n",
       "      <td>Не указано</td>\n",
       "      <td>Проспект Вернадского ⋅  7 мин. пешком</td>\n",
       "      <td>1973</td>\n",
       "      <td>Вторичка</td>\n",
       "      <td>1 совмещенный</td>\n",
       "      <td>1 лоджия</td>\n",
       "      <td>Косметический</td>\n",
       "    </tr>\n",
       "    <tr>\n",
       "      <th>7</th>\n",
       "      <td>7.0</td>\n",
       "      <td>https://www.cian.ru/sale/flat/279800687/</td>\n",
       "      <td>2022-11-06</td>\n",
       "      <td>Москва, ЮАО, р-н Нагатино-Садовники, Нагатинск...</td>\n",
       "      <td>1</td>\n",
       "      <td>10800000</td>\n",
       "      <td>23.4</td>\n",
       "      <td>Не указано</td>\n",
       "      <td>Не указано</td>\n",
       "      <td>8</td>\n",
       "      <td>26</td>\n",
       "      <td>Без отделки</td>\n",
       "      <td>Проспект Вернадского ⋅  7 мин. пешком</td>\n",
       "      <td>Не указано</td>\n",
       "      <td>Новостройка</td>\n",
       "      <td>1 совмещенный</td>\n",
       "      <td>Не указано</td>\n",
       "      <td>Не указано</td>\n",
       "    </tr>\n",
       "    <tr>\n",
       "      <th>8</th>\n",
       "      <td>8.0</td>\n",
       "      <td>https://www.cian.ru/sale/flat/279800638/</td>\n",
       "      <td>2022-11-06</td>\n",
       "      <td>Москва, ЮВАО, р-н Южнопортовый, ул. 2-я Машино...</td>\n",
       "      <td>1</td>\n",
       "      <td>11200000</td>\n",
       "      <td>31</td>\n",
       "      <td>18</td>\n",
       "      <td>6</td>\n",
       "      <td>2</td>\n",
       "      <td>9</td>\n",
       "      <td>Не указано</td>\n",
       "      <td>Проспект Вернадского ⋅  7 мин. пешком</td>\n",
       "      <td>1962</td>\n",
       "      <td>Вторичка</td>\n",
       "      <td>1 совмещенный</td>\n",
       "      <td>Не указано</td>\n",
       "      <td>Евроремонт</td>\n",
       "    </tr>\n",
       "    <tr>\n",
       "      <th>9</th>\n",
       "      <td>9.0</td>\n",
       "      <td>https://www.cian.ru/sale/flat/279800636/</td>\n",
       "      <td>2022-11-06</td>\n",
       "      <td>Москва, ТАО (Троицкий), Троицк, ул. Нагорная, ...</td>\n",
       "      <td>1</td>\n",
       "      <td>8300000</td>\n",
       "      <td>40</td>\n",
       "      <td>18.5</td>\n",
       "      <td>10</td>\n",
       "      <td>13</td>\n",
       "      <td>17</td>\n",
       "      <td>Не указано</td>\n",
       "      <td>Проспект Вернадского ⋅  7 мин. пешком</td>\n",
       "      <td>2010</td>\n",
       "      <td>Вторичка</td>\n",
       "      <td>1 совмещенный</td>\n",
       "      <td>1 лоджия</td>\n",
       "      <td>Евроремонт</td>\n",
       "    </tr>\n",
       "    <tr>\n",
       "      <th>10</th>\n",
       "      <td>10.0</td>\n",
       "      <td>https://www.cian.ru/sale/flat/279800615/</td>\n",
       "      <td>2022-11-06</td>\n",
       "      <td>Москва, САО, р-н Западное Дегунино, Северный а...</td>\n",
       "      <td>1</td>\n",
       "      <td>15900000</td>\n",
       "      <td>51</td>\n",
       "      <td>16</td>\n",
       "      <td>19.6</td>\n",
       "      <td>12</td>\n",
       "      <td>43</td>\n",
       "      <td>Чистовая</td>\n",
       "      <td>Проспект Вернадского ⋅  7 мин. пешком</td>\n",
       "      <td>Не указано</td>\n",
       "      <td>Новостройка</td>\n",
       "      <td>2 раздельных</td>\n",
       "      <td>Не указано</td>\n",
       "      <td>Не указано</td>\n",
       "    </tr>\n",
       "    <tr>\n",
       "      <th>11</th>\n",
       "      <td>11.0</td>\n",
       "      <td>https://www.cian.ru/sale/flat/279800556/</td>\n",
       "      <td>2022-11-06</td>\n",
       "      <td>Москва, ЗАО, р-н Раменки, Мосфильмовская ул., ...</td>\n",
       "      <td>4</td>\n",
       "      <td>140000000</td>\n",
       "      <td>190</td>\n",
       "      <td>120</td>\n",
       "      <td>15</td>\n",
       "      <td>37</td>\n",
       "      <td>37</td>\n",
       "      <td>Не указано</td>\n",
       "      <td>Проспект Вернадского ⋅  7 мин. пешком</td>\n",
       "      <td>2005</td>\n",
       "      <td>Вторичка Пентхаус</td>\n",
       "      <td>3 совмещенных</td>\n",
       "      <td>1 лоджия</td>\n",
       "      <td>Евроремонт</td>\n",
       "    </tr>\n",
       "    <tr>\n",
       "      <th>12</th>\n",
       "      <td>12.0</td>\n",
       "      <td>https://www.cian.ru/sale/flat/279800554/</td>\n",
       "      <td>2022-11-06</td>\n",
       "      <td>Москва, СЗАО, р-н Щукино, ул. Маршала Конева, ...</td>\n",
       "      <td>3</td>\n",
       "      <td>24000000</td>\n",
       "      <td>64</td>\n",
       "      <td>39</td>\n",
       "      <td>8</td>\n",
       "      <td>4</td>\n",
       "      <td>12</td>\n",
       "      <td>Не указано</td>\n",
       "      <td>Проспект Вернадского ⋅  7 мин. пешком</td>\n",
       "      <td>1978</td>\n",
       "      <td>Вторичка</td>\n",
       "      <td>1 раздельный</td>\n",
       "      <td>1 лоджия</td>\n",
       "      <td>Евроремонт</td>\n",
       "    </tr>\n",
       "    <tr>\n",
       "      <th>13</th>\n",
       "      <td>13.0</td>\n",
       "      <td>https://www.cian.ru/sale/flat/279800523/</td>\n",
       "      <td>2022-11-06</td>\n",
       "      <td>Москва, САО, р-н Аэропорт, ул. Черняховского, ...</td>\n",
       "      <td>3</td>\n",
       "      <td>36500000</td>\n",
       "      <td>75</td>\n",
       "      <td>35</td>\n",
       "      <td>20</td>\n",
       "      <td>21</td>\n",
       "      <td>22</td>\n",
       "      <td>Не указано</td>\n",
       "      <td>Проспект Вернадского ⋅  7 мин. пешком</td>\n",
       "      <td>2019</td>\n",
       "      <td>Вторичка</td>\n",
       "      <td>2 совмещенных</td>\n",
       "      <td>1 балкон</td>\n",
       "      <td>Дизайнерский</td>\n",
       "    </tr>\n",
       "    <tr>\n",
       "      <th>14</th>\n",
       "      <td>14.0</td>\n",
       "      <td>https://www.cian.ru/sale/flat/279800458/</td>\n",
       "      <td>2022-11-06</td>\n",
       "      <td>Москва, ЮЗАО, р-н Академический, Профсоюзная у...</td>\n",
       "      <td>3</td>\n",
       "      <td>32000000</td>\n",
       "      <td>78.8</td>\n",
       "      <td>52</td>\n",
       "      <td>10.2</td>\n",
       "      <td>4</td>\n",
       "      <td>8</td>\n",
       "      <td>Не указано</td>\n",
       "      <td>Проспект Вернадского ⋅  7 мин. пешком</td>\n",
       "      <td>1958</td>\n",
       "      <td>Вторичка</td>\n",
       "      <td>1 раздельный</td>\n",
       "      <td>1 балкон</td>\n",
       "      <td>Косметический</td>\n",
       "    </tr>\n",
       "    <tr>\n",
       "      <th>15</th>\n",
       "      <td>15.0</td>\n",
       "      <td>https://www.cian.ru/sale/flat/279800445/</td>\n",
       "      <td>2022-11-06</td>\n",
       "      <td>Москва, ЦАО, р-н Хамовники, ул. Ефремова, 15/2...</td>\n",
       "      <td>2</td>\n",
       "      <td>22000000</td>\n",
       "      <td>45</td>\n",
       "      <td>30</td>\n",
       "      <td>6.5</td>\n",
       "      <td>4</td>\n",
       "      <td>5</td>\n",
       "      <td>Не указано</td>\n",
       "      <td>Проспект Вернадского ⋅  7 мин. пешком</td>\n",
       "      <td>1959</td>\n",
       "      <td>Вторичка</td>\n",
       "      <td>1 совмещенный</td>\n",
       "      <td>1 балкон</td>\n",
       "      <td>Косметический</td>\n",
       "    </tr>\n",
       "    <tr>\n",
       "      <th>16</th>\n",
       "      <td>16.0</td>\n",
       "      <td>https://www.cian.ru/sale/flat/279800429/</td>\n",
       "      <td>2022-11-06</td>\n",
       "      <td>Москва, ВАО, р-н Соколиная гора, просп. Буденн...</td>\n",
       "      <td>1</td>\n",
       "      <td>7700000</td>\n",
       "      <td>32</td>\n",
       "      <td>17</td>\n",
       "      <td>6</td>\n",
       "      <td>1</td>\n",
       "      <td>5</td>\n",
       "      <td>Не указано</td>\n",
       "      <td>Проспект Вернадского ⋅  7 мин. пешком</td>\n",
       "      <td>1962</td>\n",
       "      <td>Вторичка</td>\n",
       "      <td>Не указано</td>\n",
       "      <td>Не указано</td>\n",
       "      <td>Косметический</td>\n",
       "    </tr>\n",
       "    <tr>\n",
       "      <th>17</th>\n",
       "      <td>17.0</td>\n",
       "      <td>https://www.cian.ru/sale/flat/279800342/</td>\n",
       "      <td>2022-11-06</td>\n",
       "      <td>Москва, ЗАО, р-н Можайский, ул. Кутузова, 9На ...</td>\n",
       "      <td>1</td>\n",
       "      <td>10600000</td>\n",
       "      <td>39</td>\n",
       "      <td>20</td>\n",
       "      <td>9</td>\n",
       "      <td>10</td>\n",
       "      <td>14</td>\n",
       "      <td>Не указано</td>\n",
       "      <td>Проспект Вернадского ⋅  7 мин. пешком</td>\n",
       "      <td>1973</td>\n",
       "      <td>Вторичка</td>\n",
       "      <td>1 совмещенный</td>\n",
       "      <td>1 лоджия</td>\n",
       "      <td>Евроремонт</td>\n",
       "    </tr>\n",
       "    <tr>\n",
       "      <th>18</th>\n",
       "      <td>18.0</td>\n",
       "      <td>https://www.cian.ru/sale/flat/279800323/</td>\n",
       "      <td>2022-11-06</td>\n",
       "      <td>Москва, ЗелАО, р-н Силино, Зеленоград, мкр. 11...</td>\n",
       "      <td>2</td>\n",
       "      <td>10300000</td>\n",
       "      <td>52.2</td>\n",
       "      <td>31</td>\n",
       "      <td>8.6</td>\n",
       "      <td>13</td>\n",
       "      <td>14</td>\n",
       "      <td>Не указано</td>\n",
       "      <td>Проспект Вернадского ⋅  7 мин. пешком</td>\n",
       "      <td>1990</td>\n",
       "      <td>Вторичка</td>\n",
       "      <td>1 совмещенный</td>\n",
       "      <td>1 балкон</td>\n",
       "      <td>Косметический</td>\n",
       "    </tr>\n",
       "    <tr>\n",
       "      <th>19</th>\n",
       "      <td>19.0</td>\n",
       "      <td>https://www.cian.ru/sale/flat/279800294/</td>\n",
       "      <td>2022-11-06</td>\n",
       "      <td>Москва, ЗАО, р-н Солнцево, Домостроительная ул...</td>\n",
       "      <td>5</td>\n",
       "      <td>35000000</td>\n",
       "      <td>160</td>\n",
       "      <td>Не указано</td>\n",
       "      <td>35</td>\n",
       "      <td>1</td>\n",
       "      <td>15</td>\n",
       "      <td>Не указано</td>\n",
       "      <td>Проспект Вернадского ⋅  7 мин. пешком</td>\n",
       "      <td>2020</td>\n",
       "      <td>Вторичка</td>\n",
       "      <td>3 совмещенных</td>\n",
       "      <td>Не указано</td>\n",
       "      <td>Дизайнерский</td>\n",
       "    </tr>\n",
       "    <tr>\n",
       "      <th>20</th>\n",
       "      <td>20.0</td>\n",
       "      <td>https://www.cian.ru/sale/flat/279800285/</td>\n",
       "      <td>2022-11-06</td>\n",
       "      <td>Москва, ЗелАО, р-н Силино, Зеленоград, мкр. 11...</td>\n",
       "      <td>2</td>\n",
       "      <td>10199999</td>\n",
       "      <td>52</td>\n",
       "      <td>30</td>\n",
       "      <td>9</td>\n",
       "      <td>13</td>\n",
       "      <td>14</td>\n",
       "      <td>Не указано</td>\n",
       "      <td>Проспект Вернадского ⋅  7 мин. пешком</td>\n",
       "      <td>1990</td>\n",
       "      <td>Вторичка</td>\n",
       "      <td>1 совмещенный</td>\n",
       "      <td>1 балкон</td>\n",
       "      <td>Евроремонт</td>\n",
       "    </tr>\n",
       "    <tr>\n",
       "      <th>21</th>\n",
       "      <td>21.0</td>\n",
       "      <td>https://www.cian.ru/sale/flat/279800259/</td>\n",
       "      <td>2022-11-06</td>\n",
       "      <td>Москва, ЗАО, р-н Солнцево, Производственная ул...</td>\n",
       "      <td>1</td>\n",
       "      <td>12400000</td>\n",
       "      <td>37.9</td>\n",
       "      <td>17</td>\n",
       "      <td>15.3</td>\n",
       "      <td>7</td>\n",
       "      <td>19</td>\n",
       "      <td>Не указано</td>\n",
       "      <td>Проспект Вернадского ⋅  7 мин. пешком</td>\n",
       "      <td>2017</td>\n",
       "      <td>Вторичка</td>\n",
       "      <td>Не указано</td>\n",
       "      <td>Не указано</td>\n",
       "      <td>Косметический</td>\n",
       "    </tr>\n",
       "    <tr>\n",
       "      <th>22</th>\n",
       "      <td>22.0</td>\n",
       "      <td>https://www.cian.ru/sale/flat/279800206/</td>\n",
       "      <td>2022-11-06</td>\n",
       "      <td>Москва, ЮЗАО, р-н Южное Бутово, Чечерский прое...</td>\n",
       "      <td>1</td>\n",
       "      <td>6500000</td>\n",
       "      <td>28</td>\n",
       "      <td>Не указано</td>\n",
       "      <td>6</td>\n",
       "      <td>7</td>\n",
       "      <td>9</td>\n",
       "      <td>Не указано</td>\n",
       "      <td>Проспект Вернадского ⋅  7 мин. пешком</td>\n",
       "      <td>Не указано</td>\n",
       "      <td>Вторичка</td>\n",
       "      <td>1 совмещенный</td>\n",
       "      <td>1 лоджия</td>\n",
       "      <td>Не указано</td>\n",
       "    </tr>\n",
       "    <tr>\n",
       "      <th>23</th>\n",
       "      <td>23.0</td>\n",
       "      <td>https://www.cian.ru/sale/flat/279800199/</td>\n",
       "      <td>2022-11-06</td>\n",
       "      <td>Москва, НАО (Новомосковский), Московский посел...</td>\n",
       "      <td>2</td>\n",
       "      <td>10150000</td>\n",
       "      <td>54</td>\n",
       "      <td>26.2</td>\n",
       "      <td>12</td>\n",
       "      <td>5</td>\n",
       "      <td>22</td>\n",
       "      <td>Не указано</td>\n",
       "      <td>Проспект Вернадского ⋅  7 мин. пешком</td>\n",
       "      <td>2021</td>\n",
       "      <td>Вторичка</td>\n",
       "      <td>1 раздельный</td>\n",
       "      <td>1 лоджия</td>\n",
       "      <td>Без ремонта</td>\n",
       "    </tr>\n",
       "    <tr>\n",
       "      <th>24</th>\n",
       "      <td>24.0</td>\n",
       "      <td>https://www.cian.ru/sale/flat/279800198/</td>\n",
       "      <td>2022-11-06</td>\n",
       "      <td>Москва, ВАО, р-н Новокосино, Суздальская ул., ...</td>\n",
       "      <td>2</td>\n",
       "      <td>10900000</td>\n",
       "      <td>53.8</td>\n",
       "      <td>32.3</td>\n",
       "      <td>9.1</td>\n",
       "      <td>17</td>\n",
       "      <td>17</td>\n",
       "      <td>Не указано</td>\n",
       "      <td>Проспект Вернадского ⋅  7 мин. пешком</td>\n",
       "      <td>1990</td>\n",
       "      <td>Вторичка</td>\n",
       "      <td>1 раздельный</td>\n",
       "      <td>1 балкон</td>\n",
       "      <td>Без ремонта</td>\n",
       "    </tr>\n",
       "    <tr>\n",
       "      <th>25</th>\n",
       "      <td>25.0</td>\n",
       "      <td>https://www.cian.ru/sale/flat/279799826/</td>\n",
       "      <td>2022-11-06</td>\n",
       "      <td>Москва, ВАО, р-н Новогиреево, Зеленый просп., ...</td>\n",
       "      <td>2</td>\n",
       "      <td>14500000</td>\n",
       "      <td>46.8</td>\n",
       "      <td>28.5</td>\n",
       "      <td>7.1</td>\n",
       "      <td>5</td>\n",
       "      <td>12</td>\n",
       "      <td>Не указано</td>\n",
       "      <td>Проспект Вернадского ⋅  7 мин. пешком</td>\n",
       "      <td>1974</td>\n",
       "      <td>Вторичка</td>\n",
       "      <td>1 совмещенный</td>\n",
       "      <td>1 балкон</td>\n",
       "      <td>Косметический</td>\n",
       "    </tr>\n",
       "    <tr>\n",
       "      <th>26</th>\n",
       "      <td>26.0</td>\n",
       "      <td>https://www.cian.ru/sale/flat/279799817/</td>\n",
       "      <td>2022-11-06</td>\n",
       "      <td>Москва, САО, р-н Бескудниковский, Бескудниковс...</td>\n",
       "      <td>1</td>\n",
       "      <td>8700000</td>\n",
       "      <td>32.2</td>\n",
       "      <td>21.7</td>\n",
       "      <td>7</td>\n",
       "      <td>1</td>\n",
       "      <td>9</td>\n",
       "      <td>Не указано</td>\n",
       "      <td>Проспект Вернадского ⋅  7 мин. пешком</td>\n",
       "      <td>1965</td>\n",
       "      <td>Вторичка</td>\n",
       "      <td>1 совмещенный</td>\n",
       "      <td>Не указано</td>\n",
       "      <td>Косметический</td>\n",
       "    </tr>\n",
       "    <tr>\n",
       "      <th>27</th>\n",
       "      <td>27.0</td>\n",
       "      <td>https://www.cian.ru/sale/flat/279799784/</td>\n",
       "      <td>2022-11-06</td>\n",
       "      <td>Москва, ЗАО, р-н Проспект Вернадского, ул. Уда...</td>\n",
       "      <td>2</td>\n",
       "      <td>15000000</td>\n",
       "      <td>47</td>\n",
       "      <td>31</td>\n",
       "      <td>7</td>\n",
       "      <td>4</td>\n",
       "      <td>10</td>\n",
       "      <td>Не указано</td>\n",
       "      <td>Проспект Вернадского ⋅  7 мин. пешком</td>\n",
       "      <td>1966</td>\n",
       "      <td>Вторичка</td>\n",
       "      <td>1 совмещенный</td>\n",
       "      <td>Не указано</td>\n",
       "      <td>Без ремонта</td>\n",
       "    </tr>\n",
       "  </tbody>\n",
       "</table>\n",
       "</div>"
      ],
      "text/plain": [
       "      id                                      Link        Date  \\\n",
       "0    0.0  https://www.cian.ru/sale/flat/279800980/  2022-11-06   \n",
       "1    1.0  https://www.cian.ru/sale/flat/279800832/  2022-11-06   \n",
       "2    2.0  https://www.cian.ru/sale/flat/279800819/  2022-11-06   \n",
       "3    3.0  https://www.cian.ru/sale/flat/279800808/  2022-11-06   \n",
       "4    4.0  https://www.cian.ru/sale/flat/279800804/  2022-11-06   \n",
       "5    5.0  https://www.cian.ru/sale/flat/279800791/  2022-11-06   \n",
       "6    6.0  https://www.cian.ru/sale/flat/279800787/  2022-11-06   \n",
       "7    7.0  https://www.cian.ru/sale/flat/279800687/  2022-11-06   \n",
       "8    8.0  https://www.cian.ru/sale/flat/279800638/  2022-11-06   \n",
       "9    9.0  https://www.cian.ru/sale/flat/279800636/  2022-11-06   \n",
       "10  10.0  https://www.cian.ru/sale/flat/279800615/  2022-11-06   \n",
       "11  11.0  https://www.cian.ru/sale/flat/279800556/  2022-11-06   \n",
       "12  12.0  https://www.cian.ru/sale/flat/279800554/  2022-11-06   \n",
       "13  13.0  https://www.cian.ru/sale/flat/279800523/  2022-11-06   \n",
       "14  14.0  https://www.cian.ru/sale/flat/279800458/  2022-11-06   \n",
       "15  15.0  https://www.cian.ru/sale/flat/279800445/  2022-11-06   \n",
       "16  16.0  https://www.cian.ru/sale/flat/279800429/  2022-11-06   \n",
       "17  17.0  https://www.cian.ru/sale/flat/279800342/  2022-11-06   \n",
       "18  18.0  https://www.cian.ru/sale/flat/279800323/  2022-11-06   \n",
       "19  19.0  https://www.cian.ru/sale/flat/279800294/  2022-11-06   \n",
       "20  20.0  https://www.cian.ru/sale/flat/279800285/  2022-11-06   \n",
       "21  21.0  https://www.cian.ru/sale/flat/279800259/  2022-11-06   \n",
       "22  22.0  https://www.cian.ru/sale/flat/279800206/  2022-11-06   \n",
       "23  23.0  https://www.cian.ru/sale/flat/279800199/  2022-11-06   \n",
       "24  24.0  https://www.cian.ru/sale/flat/279800198/  2022-11-06   \n",
       "25  25.0  https://www.cian.ru/sale/flat/279799826/  2022-11-06   \n",
       "26  26.0  https://www.cian.ru/sale/flat/279799817/  2022-11-06   \n",
       "27  27.0  https://www.cian.ru/sale/flat/279799784/  2022-11-06   \n",
       "\n",
       "                                              Address Число комнат       Цена  \\\n",
       "0   Москва, ЦАО, р-н Таганский, Новорогожская ул.,...            1   14500000   \n",
       "1   Москва, ЮВАО, р-н Люблино, ул. Верхние Поля, 2...            1    7400000   \n",
       "2   Москва, СВАО, р-н Лосиноостровский, Анадырский...            2   14940000   \n",
       "3   Москва, ЦАО, р-н Пресненский, Стрельбищенский ...            2   18000000   \n",
       "4   Москва, НАО (Новомосковский), Сосенское поселе...            1    9450000   \n",
       "5   Москва, ЮВАО, р-н Кузьминки, ул. Юных Ленинцев...            2    8200000   \n",
       "6   Москва, САО, р-н Ховрино, Петрозаводская ул., ...            1   11000000   \n",
       "7   Москва, ЮАО, р-н Нагатино-Садовники, Нагатинск...            1   10800000   \n",
       "8   Москва, ЮВАО, р-н Южнопортовый, ул. 2-я Машино...            1   11200000   \n",
       "9   Москва, ТАО (Троицкий), Троицк, ул. Нагорная, ...            1    8300000   \n",
       "10  Москва, САО, р-н Западное Дегунино, Северный а...            1   15900000   \n",
       "11  Москва, ЗАО, р-н Раменки, Мосфильмовская ул., ...            4  140000000   \n",
       "12  Москва, СЗАО, р-н Щукино, ул. Маршала Конева, ...            3   24000000   \n",
       "13  Москва, САО, р-н Аэропорт, ул. Черняховского, ...            3   36500000   \n",
       "14  Москва, ЮЗАО, р-н Академический, Профсоюзная у...            3   32000000   \n",
       "15  Москва, ЦАО, р-н Хамовники, ул. Ефремова, 15/2...            2   22000000   \n",
       "16  Москва, ВАО, р-н Соколиная гора, просп. Буденн...            1    7700000   \n",
       "17  Москва, ЗАО, р-н Можайский, ул. Кутузова, 9На ...            1   10600000   \n",
       "18  Москва, ЗелАО, р-н Силино, Зеленоград, мкр. 11...            2   10300000   \n",
       "19  Москва, ЗАО, р-н Солнцево, Домостроительная ул...            5   35000000   \n",
       "20  Москва, ЗелАО, р-н Силино, Зеленоград, мкр. 11...            2   10199999   \n",
       "21  Москва, ЗАО, р-н Солнцево, Производственная ул...            1   12400000   \n",
       "22  Москва, ЮЗАО, р-н Южное Бутово, Чечерский прое...            1    6500000   \n",
       "23  Москва, НАО (Новомосковский), Московский посел...            2   10150000   \n",
       "24  Москва, ВАО, р-н Новокосино, Суздальская ул., ...            2   10900000   \n",
       "25  Москва, ВАО, р-н Новогиреево, Зеленый просп., ...            2   14500000   \n",
       "26  Москва, САО, р-н Бескудниковский, Бескудниковс...            1    8700000   \n",
       "27  Москва, ЗАО, р-н Проспект Вернадского, ул. Уда...            2   15000000   \n",
       "\n",
       "   Общая площадь Жилая площадь кв Площадь кухни Этаж Этажей в доме  \\\n",
       "0           40.3             18.7           9.7   12            25   \n",
       "1             25               14             5    2             9   \n",
       "2             58               34            10    8            17   \n",
       "3           56.1             35.9           8.4    4             5   \n",
       "4           39.4               16            11    6            12   \n",
       "5           37.3               23           7.5    1             9   \n",
       "6           38.1               18             9   11            16   \n",
       "7           23.4       Не указано    Не указано    8            26   \n",
       "8             31               18             6    2             9   \n",
       "9             40             18.5            10   13            17   \n",
       "10            51               16          19.6   12            43   \n",
       "11           190              120            15   37            37   \n",
       "12            64               39             8    4            12   \n",
       "13            75               35            20   21            22   \n",
       "14          78.8               52          10.2    4             8   \n",
       "15            45               30           6.5    4             5   \n",
       "16            32               17             6    1             5   \n",
       "17            39               20             9   10            14   \n",
       "18          52.2               31           8.6   13            14   \n",
       "19           160       Не указано            35    1            15   \n",
       "20            52               30             9   13            14   \n",
       "21          37.9               17          15.3    7            19   \n",
       "22            28       Не указано             6    7             9   \n",
       "23            54             26.2            12    5            22   \n",
       "24          53.8             32.3           9.1   17            17   \n",
       "25          46.8             28.5           7.1    5            12   \n",
       "26          32.2             21.7             7    1             9   \n",
       "27            47               31             7    4            10   \n",
       "\n",
       "        Отделка                    Расстояние до метро Год постройки  \\\n",
       "0    Не указано  Проспект Вернадского ⋅  7 мин. пешком          2004   \n",
       "1    Не указано  Проспект Вернадского ⋅  7 мин. пешком          1971   \n",
       "2    Не указано  Проспект Вернадского ⋅  7 мин. пешком          1996   \n",
       "3    Не указано  Проспект Вернадского ⋅  7 мин. пешком          1958   \n",
       "4    Не указано  Проспект Вернадского ⋅  7 мин. пешком          2021   \n",
       "5    Не указано  Проспект Вернадского ⋅  7 мин. пешком          1961   \n",
       "6    Не указано  Проспект Вернадского ⋅  7 мин. пешком          1973   \n",
       "7   Без отделки  Проспект Вернадского ⋅  7 мин. пешком    Не указано   \n",
       "8    Не указано  Проспект Вернадского ⋅  7 мин. пешком          1962   \n",
       "9    Не указано  Проспект Вернадского ⋅  7 мин. пешком          2010   \n",
       "10     Чистовая  Проспект Вернадского ⋅  7 мин. пешком    Не указано   \n",
       "11   Не указано  Проспект Вернадского ⋅  7 мин. пешком          2005   \n",
       "12   Не указано  Проспект Вернадского ⋅  7 мин. пешком          1978   \n",
       "13   Не указано  Проспект Вернадского ⋅  7 мин. пешком          2019   \n",
       "14   Не указано  Проспект Вернадского ⋅  7 мин. пешком          1958   \n",
       "15   Не указано  Проспект Вернадского ⋅  7 мин. пешком          1959   \n",
       "16   Не указано  Проспект Вернадского ⋅  7 мин. пешком          1962   \n",
       "17   Не указано  Проспект Вернадского ⋅  7 мин. пешком          1973   \n",
       "18   Не указано  Проспект Вернадского ⋅  7 мин. пешком          1990   \n",
       "19   Не указано  Проспект Вернадского ⋅  7 мин. пешком          2020   \n",
       "20   Не указано  Проспект Вернадского ⋅  7 мин. пешком          1990   \n",
       "21   Не указано  Проспект Вернадского ⋅  7 мин. пешком          2017   \n",
       "22   Не указано  Проспект Вернадского ⋅  7 мин. пешком    Не указано   \n",
       "23   Не указано  Проспект Вернадского ⋅  7 мин. пешком          2021   \n",
       "24   Не указано  Проспект Вернадского ⋅  7 мин. пешком          1990   \n",
       "25   Не указано  Проспект Вернадского ⋅  7 мин. пешком          1974   \n",
       "26   Не указано  Проспект Вернадского ⋅  7 мин. пешком          1965   \n",
       "27   Не указано  Проспект Вернадского ⋅  7 мин. пешком          1966   \n",
       "\n",
       "            Тип жилья        Санузел      Балкон         Ремонт  \n",
       "0            Вторичка   1 раздельный    1 лоджия   Дизайнерский  \n",
       "1            Вторичка     Не указано  Не указано     Евроремонт  \n",
       "2            Вторичка   1 раздельный    1 лоджия     Евроремонт  \n",
       "3            Вторичка   1 раздельный    1 балкон  Косметический  \n",
       "4            Вторичка     Не указано    1 лоджия   Дизайнерский  \n",
       "5            Вторичка   1 раздельный  Не указано    Без ремонта  \n",
       "6            Вторичка  1 совмещенный    1 лоджия  Косметический  \n",
       "7         Новостройка  1 совмещенный  Не указано     Не указано  \n",
       "8            Вторичка  1 совмещенный  Не указано     Евроремонт  \n",
       "9            Вторичка  1 совмещенный    1 лоджия     Евроремонт  \n",
       "10        Новостройка   2 раздельных  Не указано     Не указано  \n",
       "11  Вторичка Пентхаус  3 совмещенных    1 лоджия     Евроремонт  \n",
       "12           Вторичка   1 раздельный    1 лоджия     Евроремонт  \n",
       "13           Вторичка  2 совмещенных    1 балкон   Дизайнерский  \n",
       "14           Вторичка   1 раздельный    1 балкон  Косметический  \n",
       "15           Вторичка  1 совмещенный    1 балкон  Косметический  \n",
       "16           Вторичка     Не указано  Не указано  Косметический  \n",
       "17           Вторичка  1 совмещенный    1 лоджия     Евроремонт  \n",
       "18           Вторичка  1 совмещенный    1 балкон  Косметический  \n",
       "19           Вторичка  3 совмещенных  Не указано   Дизайнерский  \n",
       "20           Вторичка  1 совмещенный    1 балкон     Евроремонт  \n",
       "21           Вторичка     Не указано  Не указано  Косметический  \n",
       "22           Вторичка  1 совмещенный    1 лоджия     Не указано  \n",
       "23           Вторичка   1 раздельный    1 лоджия    Без ремонта  \n",
       "24           Вторичка   1 раздельный    1 балкон    Без ремонта  \n",
       "25           Вторичка  1 совмещенный    1 балкон  Косметический  \n",
       "26           Вторичка  1 совмещенный  Не указано  Косметический  \n",
       "27           Вторичка  1 совмещенный  Не указано    Без ремонта  "
      ]
     },
     "execution_count": 290,
     "metadata": {},
     "output_type": "execute_result"
    }
   ],
   "source": [
    "df"
   ]
  },
  {
   "cell_type": "markdown",
   "id": "7a6338c1",
   "metadata": {},
   "source": [
    "_______"
   ]
  },
  {
   "cell_type": "code",
   "execution_count": 209,
   "id": "2ec16545",
   "metadata": {},
   "outputs": [],
   "source": [
    "url = 'https://spb.cian.ru/sale/suburban/263172915/'"
   ]
  },
  {
   "cell_type": "code",
   "execution_count": 210,
   "id": "a8374a7e",
   "metadata": {},
   "outputs": [],
   "source": [
    "driver = undetected_chromedriver.Chrome()"
   ]
  },
  {
   "cell_type": "code",
   "execution_count": 211,
   "id": "fe3fd582",
   "metadata": {},
   "outputs": [],
   "source": [
    "driver.get(url)"
   ]
  },
  {
   "cell_type": "code",
   "execution_count": 212,
   "id": "a3bed89c",
   "metadata": {},
   "outputs": [],
   "source": [
    "page_source = driver.page_source"
   ]
  },
  {
   "cell_type": "code",
   "execution_count": 213,
   "id": "0dd93d83",
   "metadata": {},
   "outputs": [],
   "source": [
    "soup = BeautifulSoup(page_source, 'lxml')"
   ]
  },
  {
   "cell_type": "code",
   "execution_count": 214,
   "id": "a0507900",
   "metadata": {},
   "outputs": [
    {
     "data": {
      "text/plain": [
       "[<div class=\"a10a3f92e9--info-title--JWtIm\" data-testid=\"object-summary-description-title\">Общая</div>,\n",
       " <div class=\"a10a3f92e9--info-title--JWtIm\" data-testid=\"object-summary-description-title\">Этаж</div>]"
      ]
     },
     "execution_count": 214,
     "metadata": {},
     "output_type": "execute_result"
    }
   ],
   "source": [
    "soup.find_all('div','a10a3f92e9--info-title--JWtIm')"
   ]
  },
  {
   "cell_type": "code",
   "execution_count": 215,
   "id": "cdeba494",
   "metadata": {},
   "outputs": [],
   "source": [
    "    temp_1 = soup.find_all('div', 'a10a3f92e9--info-value--bm3DC')\n",
    "    temp_2 = soup.find_all('div','a10a3f92e9--info-title--JWtIm')"
   ]
  },
  {
   "cell_type": "code",
   "execution_count": 216,
   "id": "82ddca85",
   "metadata": {},
   "outputs": [
    {
     "data": {
      "text/plain": [
       "[<div class=\"a10a3f92e9--info-value--bm3DC\" data-testid=\"object-summary-description-value\">120 м²</div>,\n",
       " <div class=\"a10a3f92e9--info-value--bm3DC\" data-testid=\"object-summary-description-value\">2 из 13</div>]"
      ]
     },
     "execution_count": 216,
     "metadata": {},
     "output_type": "execute_result"
    }
   ],
   "source": [
    "temp_1"
   ]
  },
  {
   "cell_type": "code",
   "execution_count": 217,
   "id": "e388cd3d",
   "metadata": {},
   "outputs": [
    {
     "data": {
      "text/plain": [
       "[<div class=\"a10a3f92e9--info-title--JWtIm\" data-testid=\"object-summary-description-title\">Общая</div>,\n",
       " <div class=\"a10a3f92e9--info-title--JWtIm\" data-testid=\"object-summary-description-title\">Этаж</div>]"
      ]
     },
     "execution_count": 217,
     "metadata": {},
     "output_type": "execute_result"
    }
   ],
   "source": [
    "temp_2"
   ]
  },
  {
   "cell_type": "code",
   "execution_count": 218,
   "id": "16d39b69",
   "metadata": {},
   "outputs": [],
   "source": [
    "    temp_3 = soup.find_all('span', 'a10a3f92e9--name--x7_lt')\n",
    "    temp_4 = soup.find_all('span','a10a3f92e9--value--Y34zN')"
   ]
  },
  {
   "cell_type": "code",
   "execution_count": 219,
   "id": "74eedf73",
   "metadata": {},
   "outputs": [
    {
     "data": {
      "text/plain": [
       "[]"
      ]
     },
     "execution_count": 219,
     "metadata": {},
     "output_type": "execute_result"
    }
   ],
   "source": [
    "temp_3"
   ]
  },
  {
   "cell_type": "code",
   "execution_count": 220,
   "id": "b974154b",
   "metadata": {},
   "outputs": [
    {
     "data": {
      "text/plain": [
       "[]"
      ]
     },
     "execution_count": 220,
     "metadata": {},
     "output_type": "execute_result"
    }
   ],
   "source": [
    "temp_4"
   ]
  },
  {
   "cell_type": "code",
   "execution_count": 221,
   "id": "9250d33a",
   "metadata": {},
   "outputs": [],
   "source": [
    "temp_5 = soup.find_all('span', 'a10a3f92e9--highway_distance--wUNBn')"
   ]
  },
  {
   "cell_type": "code",
   "execution_count": 222,
   "id": "3d6d8b63",
   "metadata": {},
   "outputs": [
    {
     "ename": "IndexError",
     "evalue": "list index out of range",
     "output_type": "error",
     "traceback": [
      "\u001b[0;31m---------------------------------------------------------------------------\u001b[0m",
      "\u001b[0;31mIndexError\u001b[0m                                Traceback (most recent call last)",
      "Input \u001b[0;32mIn [222]\u001b[0m, in \u001b[0;36m<cell line: 1>\u001b[0;34m()\u001b[0m\n\u001b[0;32m----> 1\u001b[0m \u001b[43mtemp_5\u001b[49m\u001b[43m[\u001b[49m\u001b[38;5;241;43m0\u001b[39;49m\u001b[43m]\u001b[49m\u001b[38;5;241m.\u001b[39mtext\n",
      "\u001b[0;31mIndexError\u001b[0m: list index out of range"
     ]
    }
   ],
   "source": [
    "temp_5[0].text"
   ]
  },
  {
   "cell_type": "code",
   "execution_count": 223,
   "id": "5101f28a",
   "metadata": {},
   "outputs": [],
   "source": [
    "temp_6 = soup.find_all('div', 'a10a3f92e9--container--RXoIe')"
   ]
  },
  {
   "cell_type": "code",
   "execution_count": 226,
   "id": "6e449117",
   "metadata": {},
   "outputs": [
    {
     "data": {
      "text/plain": [
       "'Объявление снято с публикации'"
      ]
     },
     "execution_count": 226,
     "metadata": {},
     "output_type": "execute_result"
    }
   ],
   "source": [
    "temp_6[0].text"
   ]
  },
  {
   "cell_type": "markdown",
   "id": "67e5b9ce",
   "metadata": {},
   "source": [
    "# Дата"
   ]
  },
  {
   "cell_type": "code",
   "execution_count": 168,
   "id": "e0be035a",
   "metadata": {},
   "outputs": [
    {
     "data": {
      "text/plain": [
       "'too old'"
      ]
     },
     "execution_count": 168,
     "metadata": {},
     "output_type": "execute_result"
    }
   ],
   "source": [
    "get_date(soup)"
   ]
  },
  {
   "cell_type": "markdown",
   "id": "d168ea18",
   "metadata": {},
   "source": [
    "# Адрес"
   ]
  },
  {
   "cell_type": "code",
   "execution_count": 169,
   "id": "aabe16e7",
   "metadata": {},
   "outputs": [
    {
     "data": {
      "text/plain": [
       "False"
      ]
     },
     "execution_count": 169,
     "metadata": {},
     "output_type": "execute_result"
    }
   ],
   "source": [
    "soup.find(\"address\").text.strip().split(',')[0] == 'Москва'"
   ]
  },
  {
   "cell_type": "code",
   "execution_count": 170,
   "id": "1da34de0",
   "metadata": {},
   "outputs": [
    {
     "data": {
      "text/plain": [
       "('Лосино-Петровский городской округ',\n",
       " 'Не указано',\n",
       " 'ул. Михаила Марченко',\n",
       " '1')"
      ]
     },
     "execution_count": 170,
     "metadata": {},
     "output_type": "execute_result"
    }
   ],
   "source": [
    "get_address(soup)"
   ]
  },
  {
   "cell_type": "markdown",
   "id": "6b95e554",
   "metadata": {},
   "source": [
    "# Число комнат"
   ]
  },
  {
   "cell_type": "code",
   "execution_count": 171,
   "id": "e937c83a",
   "metadata": {},
   "outputs": [],
   "source": [
    "temp = soup.find('h1', 'a10a3f92e9--title--UEAG3')"
   ]
  },
  {
   "cell_type": "code",
   "execution_count": 172,
   "id": "a678b11a",
   "metadata": {},
   "outputs": [
    {
     "name": "stdout",
     "output_type": "stream",
     "text": [
      "2\n"
     ]
    }
   ],
   "source": [
    "print(temp.text.split()[0].split('-')[0])"
   ]
  },
  {
   "cell_type": "markdown",
   "id": "b91c3dec",
   "metadata": {},
   "source": [
    "# Цена \n"
   ]
  },
  {
   "cell_type": "code",
   "execution_count": 173,
   "id": "c70703bb",
   "metadata": {},
   "outputs": [
    {
     "data": {
      "text/plain": [
       "'6800000'"
      ]
     },
     "execution_count": 173,
     "metadata": {},
     "output_type": "execute_result"
    }
   ],
   "source": [
    "get_price(soup).replace('\\xa0','').replace('₽', '')"
   ]
  },
  {
   "cell_type": "markdown",
   "id": "9dff2c9e",
   "metadata": {},
   "source": [
    "# Общая площадь кв"
   ]
  },
  {
   "cell_type": "code",
   "execution_count": 174,
   "id": "32b7ef59",
   "metadata": {},
   "outputs": [],
   "source": [
    "temp = soup.find('h1', 'a10a3f92e9--title--UEAG3')"
   ]
  },
  {
   "cell_type": "code",
   "execution_count": 175,
   "id": "9d7b15a9",
   "metadata": {},
   "outputs": [
    {
     "name": "stdout",
     "output_type": "stream",
     "text": [
      "55.7\n"
     ]
    }
   ],
   "source": [
    "print(temp.text.split()[2].replace(',', '.'))"
   ]
  },
  {
   "cell_type": "markdown",
   "id": "d881828e",
   "metadata": {},
   "source": [
    "# Жилая площадь кв"
   ]
  },
  {
   "cell_type": "code",
   "execution_count": 176,
   "id": "31ac0116",
   "metadata": {},
   "outputs": [
    {
     "name": "stdout",
     "output_type": "stream",
     "text": [
      "27\n"
     ]
    }
   ],
   "source": [
    "if find_living(soup) == 'Не указано':\n",
    "    print('Не указано')\n",
    "else: \n",
    "    print(find_living(soup).split()[0].replace(',', '.'))"
   ]
  },
  {
   "cell_type": "markdown",
   "id": "c0bf3f79",
   "metadata": {},
   "source": [
    "# Площадь кухни"
   ]
  },
  {
   "cell_type": "code",
   "execution_count": 177,
   "id": "1b7b7145",
   "metadata": {},
   "outputs": [
    {
     "name": "stdout",
     "output_type": "stream",
     "text": [
      "10\n"
     ]
    }
   ],
   "source": [
    "if find_kitchen(soup) == 'Не указано':\n",
    "    print('Не указано')\n",
    "else: \n",
    "    print(find_kitchen(soup).split()[0].replace(',', '.'))"
   ]
  },
  {
   "cell_type": "markdown",
   "id": "135b73fe",
   "metadata": {},
   "source": [
    "# Расстояние до метро"
   ]
  },
  {
   "cell_type": "code",
   "execution_count": 193,
   "id": "9ec3862e",
   "metadata": {},
   "outputs": [
    {
     "data": {
      "text/plain": [
       "'23 км от МКАД'"
      ]
     },
     "execution_count": 193,
     "metadata": {},
     "output_type": "execute_result"
    }
   ],
   "source": [
    "find_distance(soup)"
   ]
  },
  {
   "cell_type": "markdown",
   "id": "ca418a2f",
   "metadata": {},
   "source": [
    "# Год постройки"
   ]
  },
  {
   "cell_type": "code",
   "execution_count": 178,
   "id": "eea6ae96",
   "metadata": {},
   "outputs": [
    {
     "name": "stdout",
     "output_type": "stream",
     "text": [
      "2010\n"
     ]
    }
   ],
   "source": [
    "if find_year(soup) == 'Не указано':\n",
    "    print('Не указано')\n",
    "else: \n",
    "    print(find_year(soup))"
   ]
  },
  {
   "cell_type": "markdown",
   "id": "00db71c4",
   "metadata": {},
   "source": [
    "# Этаж"
   ]
  },
  {
   "cell_type": "code",
   "execution_count": 179,
   "id": "57218dcf",
   "metadata": {},
   "outputs": [
    {
     "name": "stdout",
     "output_type": "stream",
     "text": [
      "10\n"
     ]
    }
   ],
   "source": [
    "if find_floor(soup) == 'Не указано':\n",
    "    print('Не указано')\n",
    "else: \n",
    "    print(find_floor(soup).split()[0])"
   ]
  },
  {
   "cell_type": "markdown",
   "id": "73fd1c35",
   "metadata": {},
   "source": [
    "# Сколько этажей в доме"
   ]
  },
  {
   "cell_type": "code",
   "execution_count": 180,
   "id": "477a9fdd",
   "metadata": {},
   "outputs": [
    {
     "name": "stdout",
     "output_type": "stream",
     "text": [
      "14\n"
     ]
    }
   ],
   "source": [
    "if find_floor(soup) == 'Не указано':\n",
    "    print('Не указано')\n",
    "else: \n",
    "    print(find_floor(soup).split()[2])"
   ]
  },
  {
   "cell_type": "markdown",
   "id": "dc9170d1",
   "metadata": {},
   "source": [
    "# Отделка"
   ]
  },
  {
   "cell_type": "code",
   "execution_count": 181,
   "id": "312378bd",
   "metadata": {},
   "outputs": [
    {
     "name": "stdout",
     "output_type": "stream",
     "text": [
      "Не указано\n"
     ]
    }
   ],
   "source": [
    "if find_finishing(soup) == 'Не указано':\n",
    "    print('Не указано')\n",
    "else: \n",
    "    print(find_finishing(soup))"
   ]
  },
  {
   "cell_type": "markdown",
   "id": "d2cc184a",
   "metadata": {},
   "source": [
    "# Тип жилья"
   ]
  },
  {
   "cell_type": "code",
   "execution_count": 182,
   "id": "a0080f01",
   "metadata": {},
   "outputs": [
    {
     "name": "stdout",
     "output_type": "stream",
     "text": [
      "Вторичка\n"
     ]
    }
   ],
   "source": [
    "if type_floar(soup) == 'Не указано':\n",
    "    print('Не указано')\n",
    "else: \n",
    "    print(type_floar(soup))"
   ]
  },
  {
   "cell_type": "markdown",
   "id": "2def6e8e",
   "metadata": {},
   "source": [
    "# Санузел"
   ]
  },
  {
   "cell_type": "code",
   "execution_count": 183,
   "id": "fb94ac28",
   "metadata": {},
   "outputs": [
    {
     "name": "stdout",
     "output_type": "stream",
     "text": [
      "1 раздельный\n"
     ]
    }
   ],
   "source": [
    "if type_san(soup) == 'Не указано':\n",
    "    print('Не указано')\n",
    "else: \n",
    "    print(type_san(soup))"
   ]
  },
  {
   "cell_type": "markdown",
   "id": "c8bffbb2",
   "metadata": {},
   "source": [
    "# Балкон"
   ]
  },
  {
   "cell_type": "code",
   "execution_count": 184,
   "id": "f297b0b1",
   "metadata": {},
   "outputs": [
    {
     "name": "stdout",
     "output_type": "stream",
     "text": [
      "1 лоджия\n"
     ]
    }
   ],
   "source": [
    "if type_bal(soup) == 'Не указано':\n",
    "    print('Не указано')\n",
    "else: \n",
    "    print(type_bal(soup))"
   ]
  },
  {
   "cell_type": "markdown",
   "id": "75cde743",
   "metadata": {},
   "source": [
    "# Ремонт"
   ]
  },
  {
   "cell_type": "code",
   "execution_count": 185,
   "id": "7c5f32ff",
   "metadata": {},
   "outputs": [
    {
     "name": "stdout",
     "output_type": "stream",
     "text": [
      "Евроремонт\n"
     ]
    }
   ],
   "source": [
    "if type_rem(soup) == 'Не указано':\n",
    "    print('Не указано')\n",
    "else: \n",
    "    print(type_rem(soup))"
   ]
  },
  {
   "cell_type": "markdown",
   "id": "0f7dd3a7",
   "metadata": {},
   "source": [
    "________________"
   ]
  }
 ],
 "metadata": {
  "kernelspec": {
   "display_name": "Python 3 (ipykernel)",
   "language": "python",
   "name": "python3"
  },
  "language_info": {
   "codemirror_mode": {
    "name": "ipython",
    "version": 3
   },
   "file_extension": ".py",
   "mimetype": "text/x-python",
   "name": "python",
   "nbconvert_exporter": "python",
   "pygments_lexer": "ipython3",
   "version": "3.9.1"
  }
 },
 "nbformat": 4,
 "nbformat_minor": 5
}
